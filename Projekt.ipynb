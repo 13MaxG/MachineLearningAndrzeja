{
 "cells": [
  {
   "cell_type": "code",
   "execution_count": 1,
   "metadata": {
    "collapsed": true
   },
   "outputs": [],
   "source": [
    "import os\n",
    "import pickle\n",
    "\n",
    "import numpy as np\n",
    "import pandas as pd\n",
    "from sklearn.linear_model import LogisticRegression\n",
    "from sklearn.preprocessing import StandardScaler\n",
    "from sklearn.pipeline import Pipeline\n",
    "from sklearn.metrics import accuracy_score\n",
    "\n",
    "def save_labels(arr, filename):\n",
    "    pd_array = pd.DataFrame(arr)\n",
    "    pd_array.index.names = [\"Id\"]\n",
    "    pd_array.columns = [\"Prediction\"]\n",
    "    pd_array.to_csv(filename)\n",
    "\n",
    "def load_labels(filename):\n",
    "    return pd.read_csv(filename, index_col=0).values.ravel()"
   ]
  },
  {
   "cell_type": "code",
   "execution_count": 2,
   "metadata": {
    "collapsed": true
   },
   "outputs": [],
   "source": [
    "\n",
    "\n",
    "X_train = np.load(\"/mnt/dane_ml/X_train.npy\")\n",
    "y_train = load_labels(\"/mnt/dane_ml/y_train.csv\")\n",
    "X_test = np.load(\"/mnt/dane_ml/X_test.npy\")\n",
    "\n",
    "# Mój keras ma kolorki na końcu\n",
    "X_train = X_train.reshape(X_train.shape[0], 3, 32, 32).transpose(0,2,3,1)\n",
    "X_test = X_test.reshape(X_test.shape[0], 3, 32, 32).transpose(0,2,3,1)\n"
   ]
  },
  {
   "cell_type": "code",
   "execution_count": 3,
   "metadata": {
    "collapsed": true
   },
   "outputs": [],
   "source": [
    "#if not os.path.isfile(\"baseline.pkl\"):\n",
    "#    lr = Pipeline([('scaler', StandardScaler()), ('lr', LogisticRegression(verbose=43))])\n",
    "#    lr.fit(X_train, y_train)\n",
    "#    print(\"Train acc:\", accuracy_score(y_train, lr.predict(X_train)))\n",
    "#    with open(\"baseline.pkl\", 'w') as f_out:\n",
    "#        pickle.dump(lr, f_out)\n",
    "#else:\n",
    "#    with open(\"baseline.pkl\", 'r') as f_in:\n",
    "#        lr = pickle.load(f_in)\n",
    "#\n",
    "#save_labels(model.predict(X_test), \"y_pred.csv\")"
   ]
  },
  {
   "cell_type": "markdown",
   "metadata": {},
   "source": [
    "# CZĘŚĆ PIERWSZA"
   ]
  },
  {
   "cell_type": "markdown",
   "metadata": {},
   "source": [
    "xgboost?"
   ]
  },
  {
   "cell_type": "code",
   "execution_count": 3,
   "metadata": {},
   "outputs": [
    {
     "name": "stderr",
     "output_type": "stream",
     "text": [
      "Using Theano backend.\n"
     ]
    },
    {
     "name": "stdout",
     "output_type": "stream",
     "text": [
      "(32, 32, 3)\n"
     ]
    }
   ],
   "source": [
    "os.environ['KERAS_BACKEND'] = 'theano'\n",
    "from sklearn.model_selection import train_test_split\n",
    "from keras.utils.np_utils import to_categorical\n",
    "first_X_train, first_X_test, first_y_train, first_y_test = train_test_split(X_train[:1200], y_train[:1200], test_size=0.33, random_state=43)\n",
    "first_y_train = to_categorical(first_y_train, num_classes=10)\n",
    "first_y_test = to_categorical(first_y_test, num_classes=10)\n",
    "\n"
   ]
  },
  {
   "cell_type": "code",
   "execution_count": 39,
   "metadata": {},
   "outputs": [
    {
     "name": "stdout",
     "output_type": "stream",
     "text": [
      "(32, 32, 3)\n",
      "[ 0.  0.  0.  0.  0.  0.  1.  0.  0.  0.]\n"
     ]
    }
   ],
   "source": [
    "input_shape=first_X_train[0].shape\n",
    "print input_shape\n",
    "\n",
    "print first_y_test[5]"
   ]
  },
  {
   "cell_type": "code",
   "execution_count": 33,
   "metadata": {},
   "outputs": [
    {
     "data": {
      "text/plain": [
       "<matplotlib.image.AxesImage at 0x7fa81838d990>"
      ]
     },
     "execution_count": 33,
     "metadata": {},
     "output_type": "execute_result"
    },
    {
     "data": {
      "image/png": "[encoded data removed]",
      "text/plain": [
       "<matplotlib.figure.Figure at 0x7fa818f97c90>"
      ]
     },
     "metadata": {},
     "output_type": "display_data"
    }
   ],
   "source": [
    "import matplotlib.pyplot as plt\n",
    "%matplotlib inline\n",
    "plt.imshow(first_X_train[54])"
   ]
  },
  {
   "cell_type": "code",
   "execution_count": 41,
   "metadata": {},
   "outputs": [],
   "source": [
    "os.environ['KERAS_BACKEND'] = 'theano'\n",
    "\n",
    "from keras.models import Sequential\n",
    "from keras.layers import Activation, Dropout, Flatten, Dense\n",
    "from keras.layers import Conv2D, MaxPooling2D\n",
    "from keras.losses import categorical_crossentropy\n",
    "from keras.optimizers import Adadelta\n",
    "\n",
    "model = Sequential()\n",
    "model.add(Conv2D(48, kernel_size=(5, 5), input_shape=input_shape))\n",
    "model.add(Activation('relu'))\n",
    "model.add(Conv2D(48, kernel_size=(3, 3)))\n",
    "model.add(Activation('relu'))\n",
    "\n",
    "model.add(MaxPooling2D(pool_size=(2, 2)))\n",
    "model.add(Dropout(0.25))\n",
    "\n",
    "model.add(Conv2D(96, kernel_size=(3, 3),padding='same'))\n",
    "model.add(Activation('relu'))\n",
    "model.add(Conv2D(96, kernel_size=(3, 3)))\n",
    "model.add(Activation('relu'))\n",
    "\n",
    "model.add(MaxPooling2D(pool_size=(2, 2)))\n",
    "model.add(Dropout(0.25))\n",
    "\n",
    "model.add(Conv2D(192, kernel_size=(3, 3),padding='same'))\n",
    "model.add(Activation('relu'))\n",
    "model.add(Conv2D(192, kernel_size=(3, 3)))\n",
    "model.add(Activation('relu'))\n",
    "\n",
    "model.add(MaxPooling2D(pool_size=(2, 2)))\n",
    "model.add(Dropout(0.25))\n",
    "\n",
    "model.add(Flatten())  \n",
    "\n",
    "model.add(Dense(512))\n",
    "model.add(Activation('relu'))\n",
    "model.add(Dropout(0.5))\n",
    "model.add(Dense(256))\n",
    "model.add(Activation('relu'))\n",
    "model.add(Dropout(0.5))\n",
    "\n",
    "model.add(Dense(10))\n",
    "model.add(Activation('softmax'))\n",
    "\n",
    "model.compile(loss='categorical_crossentropy',optimizer='adam',metrics=['accuracy'])"
   ]
  },
  {
   "cell_type": "code",
   "execution_count": 42,
   "metadata": {},
   "outputs": [
    {
     "name": "stdout",
     "output_type": "stream",
     "text": [
      "_________________________________________________________________\n",
      "Layer (type)                 Output Shape              Param #   \n",
      "=================================================================\n",
      "conv2d_100 (Conv2D)          (None, 28, 28, 48)        3648      \n",
      "_________________________________________________________________\n",
      "activation_140 (Activation)  (None, 28, 28, 48)        0         \n",
      "_________________________________________________________________\n",
      "conv2d_101 (Conv2D)          (None, 26, 26, 48)        20784     \n",
      "_________________________________________________________________\n",
      "activation_141 (Activation)  (None, 26, 26, 48)        0         \n",
      "_________________________________________________________________\n",
      "max_pooling2d_57 (MaxPooling (None, 13, 13, 48)        0         \n",
      "_________________________________________________________________\n",
      "dropout_67 (Dropout)         (None, 13, 13, 48)        0         \n",
      "_________________________________________________________________\n",
      "conv2d_102 (Conv2D)          (None, 13, 13, 96)        41568     \n",
      "_________________________________________________________________\n",
      "activation_142 (Activation)  (None, 13, 13, 96)        0         \n",
      "_________________________________________________________________\n",
      "conv2d_103 (Conv2D)          (None, 11, 11, 96)        83040     \n",
      "_________________________________________________________________\n",
      "activation_143 (Activation)  (None, 11, 11, 96)        0         \n",
      "_________________________________________________________________\n",
      "max_pooling2d_58 (MaxPooling (None, 5, 5, 96)          0         \n",
      "_________________________________________________________________\n",
      "dropout_68 (Dropout)         (None, 5, 5, 96)          0         \n",
      "_________________________________________________________________\n",
      "conv2d_104 (Conv2D)          (None, 5, 5, 192)         166080    \n",
      "_________________________________________________________________\n",
      "activation_144 (Activation)  (None, 5, 5, 192)         0         \n",
      "_________________________________________________________________\n",
      "conv2d_105 (Conv2D)          (None, 3, 3, 192)         331968    \n",
      "_________________________________________________________________\n",
      "activation_145 (Activation)  (None, 3, 3, 192)         0         \n",
      "_________________________________________________________________\n",
      "max_pooling2d_59 (MaxPooling (None, 1, 1, 192)         0         \n",
      "_________________________________________________________________\n",
      "dropout_69 (Dropout)         (None, 1, 1, 192)         0         \n",
      "_________________________________________________________________\n",
      "flatten_23 (Flatten)         (None, 192)               0         \n",
      "_________________________________________________________________\n",
      "dense_38 (Dense)             (None, 512)               98816     \n",
      "_________________________________________________________________\n",
      "activation_146 (Activation)  (None, 512)               0         \n",
      "_________________________________________________________________\n",
      "dropout_70 (Dropout)         (None, 512)               0         \n",
      "_________________________________________________________________\n",
      "dense_39 (Dense)             (None, 256)               131328    \n",
      "_________________________________________________________________\n",
      "activation_147 (Activation)  (None, 256)               0         \n",
      "_________________________________________________________________\n",
      "dropout_71 (Dropout)         (None, 256)               0         \n",
      "_________________________________________________________________\n",
      "dense_40 (Dense)             (None, 10)                2570      \n",
      "_________________________________________________________________\n",
      "activation_148 (Activation)  (None, 10)                0         \n",
      "=================================================================\n",
      "Total params: 879,802\n",
      "Trainable params: 879,802\n",
      "Non-trainable params: 0\n",
      "_________________________________________________________________\n",
      "None\n"
     ]
    }
   ],
   "source": [
    "print model.summary()"
   ]
  },
  {
   "cell_type": "code",
   "execution_count": 43,
   "metadata": {},
   "outputs": [
    {
     "name": "stdout",
     "output_type": "stream",
     "text": [
      "Train on 804 samples, validate on 396 samples\n",
      "Epoch 1/15\n",
      "804/804 [==============================] - 31s - loss: 4.9895 - acc: 0.1057 - val_loss: 2.3049 - val_acc: 0.0758\n",
      "Epoch 2/15\n",
      "804/804 [==============================] - 33s - loss: 2.3168 - acc: 0.1020 - val_loss: 2.3003 - val_acc: 0.1263\n",
      "Epoch 3/15\n",
      "804/804 [==============================] - 33s - loss: 2.3077 - acc: 0.1107 - val_loss: 2.3007 - val_acc: 0.1010\n",
      "Epoch 4/15\n",
      "804/804 [==============================] - 32s - loss: 2.2962 - acc: 0.1157 - val_loss: 2.2957 - val_acc: 0.1465\n",
      "Epoch 5/15\n",
      "804/804 [==============================] - 32s - loss: 2.2971 - acc: 0.1132 - val_loss: 2.2973 - val_acc: 0.1237\n",
      "Epoch 6/15\n",
      "804/804 [==============================] - 32s - loss: 2.2908 - acc: 0.1144 - val_loss: 2.2985 - val_acc: 0.1313\n",
      "Epoch 7/15\n",
      "804/804 [==============================] - 32s - loss: 2.2877 - acc: 0.1182 - val_loss: 2.2900 - val_acc: 0.1515\n",
      "Epoch 8/15\n",
      "804/804 [==============================] - 32s - loss: 2.2700 - acc: 0.1493 - val_loss: 2.2600 - val_acc: 0.1237\n",
      "Epoch 9/15\n",
      "804/804 [==============================] - 31s - loss: 2.2661 - acc: 0.1530 - val_loss: 2.2769 - val_acc: 0.1616\n",
      "Epoch 10/15\n",
      "804/804 [==============================] - 30s - loss: 2.2505 - acc: 0.1729 - val_loss: 2.2623 - val_acc: 0.1667\n",
      "Epoch 11/15\n",
      "804/804 [==============================] - 31s - loss: 2.2448 - acc: 0.1779 - val_loss: 2.2039 - val_acc: 0.1540\n",
      "Epoch 12/15\n",
      "804/804 [==============================] - 32s - loss: 2.1957 - acc: 0.1903 - val_loss: 2.1812 - val_acc: 0.1616\n",
      "Epoch 13/15\n",
      "804/804 [==============================] - 32s - loss: 2.2157 - acc: 0.1853 - val_loss: 2.2088 - val_acc: 0.1591\n",
      "Epoch 14/15\n",
      "804/804 [==============================] - 32s - loss: 2.1723 - acc: 0.2077 - val_loss: 2.1284 - val_acc: 0.1919\n",
      "Epoch 15/15\n",
      "804/804 [==============================] - 30s - loss: 2.1476 - acc: 0.2251 - val_loss: 2.1502 - val_acc: 0.1793\n"
     ]
    },
    {
     "data": {
      "text/plain": [
       "<keras.callbacks.History at 0x7fa80e4a9950>"
      ]
     },
     "execution_count": 43,
     "metadata": {},
     "output_type": "execute_result"
    }
   ],
   "source": [
    "model.fit(first_X_train, first_y_train,\n",
    "          batch_size=128,\n",
    "          epochs=15,\n",
    "          verbose=1,\n",
    "          validation_data=(first_X_test, first_y_test))#first_X_test, first_y_test))\n"
   ]
  },
  {
   "cell_type": "code",
   "execution_count": 12,
   "metadata": {},
   "outputs": [
    {
     "name": "stdout",
     "output_type": "stream",
     "text": [
      "[14.693516509701507, 0.088383838383838384]\n"
     ]
    }
   ],
   "source": [
    "score = model.evaluate(first_X_test, first_y_test, verbose=0)\n",
    "print score"
   ]
  },
  {
   "cell_type": "code",
   "execution_count": 11,
   "metadata": {},
   "outputs": [
    {
     "name": "stdout",
     "output_type": "stream",
     "text": [
      "[2.3017220425961624, 0.10696517412935323]\n"
     ]
    }
   ],
   "source": [
    "score = model.evaluate(first_X_train, first_y_train, verbose=0)\n",
    "print score"
   ]
  },
  {
   "cell_type": "code",
   "execution_count": null,
   "metadata": {
    "collapsed": true
   },
   "outputs": [],
   "source": []
  },
  {
   "cell_type": "code",
   "execution_count": null,
   "metadata": {
    "collapsed": true
   },
   "outputs": [],
   "source": []
  }
 ],
 "metadata": {
  "kernelspec": {
   "display_name": "Python 2",
   "language": "python",
   "name": "python2"
  },
  "language_info": {
   "codemirror_mode": {
    "name": "ipython",
    "version": 2
   },
   "file_extension": ".py",
   "mimetype": "text/x-python",
   "name": "python",
   "nbconvert_exporter": "python",
   "pygments_lexer": "ipython2",
   "version": "2.7.12"
  }
 },
 "nbformat": 4,
 "nbformat_minor": 2
}
