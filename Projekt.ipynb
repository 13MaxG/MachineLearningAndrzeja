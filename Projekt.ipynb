{
 "cells": [
  {
   "cell_type": "code",
   "execution_count": 3,
   "metadata": {
    "collapsed": true
   },
   "outputs": [],
   "source": [
    "import os\n",
    "import pickle\n",
    "\n",
    "import numpy as np\n",
    "import pandas as pd\n",
    "from sklearn.linear_model import LogisticRegression\n",
    "from sklearn.preprocessing import StandardScaler\n",
    "from sklearn.pipeline import Pipeline\n",
    "from sklearn.metrics import accuracy_score\n",
    "\n",
    "def save_labels(arr, filename):\n",
    "    pd_array = pd.DataFrame(arr)\n",
    "    pd_array.index.names = [\"Id\"]\n",
    "    pd_array.columns = [\"Prediction\"]\n",
    "    pd_array.to_csv(filename)\n",
    "\n",
    "def load_labels(filename):\n",
    "    return pd.read_csv(filename, index_col=0).values.ravel()"
   ]
  },
  {
   "cell_type": "code",
   "execution_count": 4,
   "metadata": {},
   "outputs": [],
   "source": [
    "\n",
    "\n",
    "X_train = np.load(\"/mnt/dane_ml/X_train.npy\")\n",
    "y_train = load_labels(\"/mnt/dane_ml/y_train.csv\")\n",
    "X_test = np.load(\"/mnt/dane_ml/X_test.npy\")\n",
    "\n",
    "# Mój keras ma kolorki na końcu\n",
    "X_train = X_train.reshape(X_train.shape[0], 3, 32, 32).transpose(0,2,3,1)\n",
    "X_test = X_test.reshape(X_test.shape[0], 3, 32, 32).transpose(0,2,3,1)\n"
   ]
  },
  {
   "cell_type": "code",
   "execution_count": 3,
   "metadata": {
    "collapsed": true
   },
   "outputs": [],
   "source": [
    "#if not os.path.isfile(\"baseline.pkl\"):\n",
    "#    lr = Pipeline([('scaler', StandardScaler()), ('lr', LogisticRegression(verbose=43))])\n",
    "#    lr.fit(X_train, y_train)\n",
    "#    print(\"Train acc:\", accuracy_score(y_train, lr.predict(X_train)))\n",
    "#    with open(\"baseline.pkl\", 'w') as f_out:\n",
    "#        pickle.dump(lr, f_out)\n",
    "#else:\n",
    "#    with open(\"baseline.pkl\", 'r') as f_in:\n",
    "#        lr = pickle.load(f_in)\n",
    "#\n",
    "#save_labels(model.predict(X_test), \"y_pred.csv\")"
   ]
  },
  {
   "cell_type": "markdown",
   "metadata": {},
   "source": [
    "# CZĘŚĆ PIERWSZA"
   ]
  },
  {
   "cell_type": "markdown",
   "metadata": {},
   "source": [
    "xgboost?"
   ]
  },
  {
   "cell_type": "code",
   "execution_count": 7,
   "metadata": {},
   "outputs": [
    {
     "name": "stderr",
     "output_type": "stream",
     "text": [
      "Using Theano backend.\n"
     ]
    },
    {
     "name": "stdout",
     "output_type": "stream",
     "text": [
      "(32, 32, 3)\n"
     ]
    }
   ],
   "source": [
    "os.environ['KERAS_BACKEND'] = 'theano'\n",
    "from sklearn.model_selection import train_test_split\n",
    "from keras.utils.np_utils import to_categorical\n",
    "first_X_train, first_X_test, first_y_train, first_y_test = train_test_split(X_train[:1200], y_train[:1200], test_size=0.33, random_state=43)\n",
    "first_y_train = to_categorical(first_y_train, num_classes=10)\n",
    "first_y_test = to_categorical(first_y_test, num_classes=10)\n",
    "\n",
    "input_shape=first_X_train[0].shape\n",
    "print input_shape\n"
   ]
  },
  {
   "cell_type": "code",
   "execution_count": 8,
   "metadata": {},
   "outputs": [
    {
     "name": "stdout",
     "output_type": "stream",
     "text": [
      "[ 0.  0.  0.  0.  0.  0.  1.  0.  0.  0.]\n"
     ]
    }
   ],
   "source": [
    "print first_y_test[5]"
   ]
  },
  {
   "cell_type": "code",
   "execution_count": 9,
   "metadata": {
    "collapsed": true
   },
   "outputs": [],
   "source": [
    "os.environ['KERAS_BACKEND'] = 'theano'\n",
    "\n",
    "from keras.models import Sequential\n",
    "from keras.layers import Activation, Dropout, Flatten, Dense\n",
    "from keras.layers import Conv2D, MaxPooling2D\n",
    "from keras.losses import categorical_crossentropy\n",
    "from keras.optimizers import Adadelta\n",
    "\n",
    "model = Sequential()\n",
    "model.add(Conv2D(32, kernel_size=(3, 3), input_shape=input_shape))\n",
    "model.add(Activation('relu'))\n",
    "model.add(MaxPooling2D(pool_size=(2, 2)))\n",
    "\n",
    "model.add(Conv2D(128, (5, 5), activation='relu'))\n",
    "model.add(Activation('sigmoid'))\n",
    "model.add(MaxPooling2D(pool_size=(3, 3)))\n",
    "\n",
    "model.add(Flatten())  \n",
    "model.add(Dense(128))\n",
    "model.add(Activation('relu'))\n",
    "model.add(Dropout(0.5))\n",
    "model.add(Dense(10))\n",
    "model.add(Activation('softmax'))\n",
    "\n",
    "model.compile(loss='categorical_crossentropy',\n",
    "              optimizer='rmsprop',\n",
    "              metrics=['accuracy'])"
   ]
  },
  {
   "cell_type": "code",
   "execution_count": 10,
   "metadata": {},
   "outputs": [
    {
     "name": "stdout",
     "output_type": "stream",
     "text": [
      "Train on 804 samples, validate on 396 samples\n",
      "Epoch 1/5\n",
      "804/804 [==============================] - 9s - loss: 3.3367 - acc: 0.0995 - val_loss: 2.3507 - val_acc: 0.1035\n",
      "Epoch 2/5\n",
      "804/804 [==============================] - 9s - loss: 2.3139 - acc: 0.1132 - val_loss: 2.3029 - val_acc: 0.1010\n",
      "Epoch 3/5\n",
      "804/804 [==============================] - 9s - loss: 2.3024 - acc: 0.0958 - val_loss: 2.3032 - val_acc: 0.1010\n",
      "Epoch 4/5\n",
      "804/804 [==============================] - 9s - loss: 2.3022 - acc: 0.0958 - val_loss: 2.3035 - val_acc: 0.1010\n",
      "Epoch 5/5\n",
      "804/804 [==============================] - 9s - loss: 2.3020 - acc: 0.0958 - val_loss: 2.3038 - val_acc: 0.1035\n"
     ]
    },
    {
     "data": {
      "text/plain": [
       "<keras.callbacks.History at 0x7fc0a07c1910>"
      ]
     },
     "execution_count": 10,
     "metadata": {},
     "output_type": "execute_result"
    }
   ],
   "source": [
    "model.fit(first_X_train, first_y_train,\n",
    "          batch_size=100,\n",
    "          epochs=5,\n",
    "          verbose=1,\n",
    "          validation_data=(first_X_test, first_y_test))\n"
   ]
  },
  {
   "cell_type": "code",
   "execution_count": 12,
   "metadata": {},
   "outputs": [
    {
     "name": "stdout",
     "output_type": "stream",
     "text": [
      "[14.693516509701507, 0.088383838383838384]\n"
     ]
    }
   ],
   "source": [
    "score = model.evaluate(first_X_test, first_y_test, verbose=0)\n",
    "print score"
   ]
  },
  {
   "cell_type": "code",
   "execution_count": 11,
   "metadata": {},
   "outputs": [
    {
     "name": "stdout",
     "output_type": "stream",
     "text": [
      "[2.3017220425961624, 0.10696517412935323]\n"
     ]
    }
   ],
   "source": [
    "score = model.evaluate(first_X_train, first_y_train, verbose=0)\n",
    "print score"
   ]
  },
  {
   "cell_type": "code",
   "execution_count": null,
   "metadata": {
    "collapsed": true
   },
   "outputs": [],
   "source": []
  },
  {
   "cell_type": "code",
   "execution_count": null,
   "metadata": {
    "collapsed": true
   },
   "outputs": [],
   "source": []
  }
 ],
 "metadata": {
  "kernelspec": {
   "display_name": "Python 2",
   "language": "python",
   "name": "python2"
  },
  "language_info": {
   "codemirror_mode": {
    "name": "ipython",
    "version": 2
   },
   "file_extension": ".py",
   "mimetype": "text/x-python",
   "name": "python",
   "nbconvert_exporter": "python",
   "pygments_lexer": "ipython2",
   "version": "2.7.12"
  }
 },
 "nbformat": 4,
 "nbformat_minor": 2
}
