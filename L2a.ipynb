{
 "cells": [
  {
   "cell_type": "markdown",
   "metadata": {},
   "source": [
    "## Motywacja\n",
    "\n",
    "Sieci neuronowe działają, ponieważ efektywnie aproksymują pewne rozkłady prawdopodobieństwa. Celem tych ćwiczeń jest zrozumienie, co konkretnie jest aproksymowane (chwilowo nie interesuje nas, w jaki sposób).\n",
    "Wiedza ta jest potrzebna, aby dobrze zaplanować architekturę modelu i poprawnie wybrać funkcję kosztu."
   ]
  },
  {
   "cell_type": "markdown",
   "metadata": {},
   "source": [
    "## Modele generatywne\n",
    "\n",
    "Zadaniem modeli generatywnych jest generowanie danych podobnych (pochodzących z tego samego rozkładu) do tych, które były obserwowane podczas uczenia.\n",
    "\n",
    "Do tej pory omawialiśmy modele dyskryminatywne - one z kolei uczą się \"opisywać\" dane, np. przypisując im klasę, do jakiej należą.\n",
    "\n",
    "Przykładowy efekt działania modelu generatywnego - zdjęcia sypialni\n",
    "\n",
    "<img src=\"figures/L2/gan2.png\">\n",
    "\n",
    "Przykładowy efekt niedziałania modelu generatywnego - zdjęcia psów (chyba)\n",
    "\n",
    "<img src=\"figures/L2/gan.png\">\n"
   ]
  },
  {
   "cell_type": "markdown",
   "metadata": {},
   "source": [
    "## Model generatywny rzutu monetą.\n",
    "\n",
    "Spróbujmy wytrenować model generatywny pewnej (być może niesymetrycznej) monety.\n",
    "\n",
    "Obserwacje to wyniki kolejnych rzutów monetą. Na ich podstawie model estymuje rozkład prawdopodobieństwa, z jakiego one pochodzą, czyli po prostu prawdopodobieństwo wylosowania orła - oznaczmy je literą $\\theta$. Uczenie modelu to estymowanie tego parametru.\n",
    "\n",
    "Następnie model może **generować** wyniki kolejnych rzutów. W tym wypadku jest to bardzo proste, wystarczy np. użyć generatora liczb losowych, który z prawdopodobieństwem $\\theta$ wypisze ORZEŁ, a z prawdopodobieństwem $1-\\theta$ będzie to RESZKA.\n",
    "\n",
    "Jeśli na przykład prawdziwe $\\theta$ wynosi $70\\%$, a wyestymowane $60\\%$, to zauważymy, że generowane dane nie są podobne do danych prawdziwych - ORZEŁ będzie pojawiał się zbyt rzadko. Jest to analogia do powyższych zdjęć psów. Poprawnie wytrenowany model będzie średnio generował tyle samo ORŁÓW, co prawdziwa moneta i w tym sensie dane pochodzące z modelu będą dla nas nieodróżnialne od danych prawdziwych (analogia do zdjęć sypialnii)."
   ]
  },
  {
   "cell_type": "markdown",
   "metadata": {},
   "source": [
    "W powyższym przykładzie estymowany rozkład jest dyskretny (dwie możliwości: ORZEŁ i RESZKA), natomiast parametr $\\theta$ teoretycznie może przyjmować dowolną wartość z przedziału $[0,1]$ (a więc jest ciągły).\n",
    "\n",
    "Z uwagi na architekturę komputerów w praktyce wszystkie rozkłady i parametry zawsze będą dyskretne, liczba możliwych wartości $\\theta$ będzie zależeć przede wszystkim od precyzji użytych floatów.\n",
    "\n",
    "Rozpatrywanie wszystkich możliwych wartości parametrów jest oczywiście zbyt czasochłonne. Stosuje się więc przybliżenia, a w tym celu łatwiej myśleć o parametrach jako wielkościach ciągłych i korzystać z twierdzeń analizy matematycznej. Podobna uwaga dotyczy rozkładów prawdopodobieństwa - dla przykładu, jeśli chcemy wylosować obrazek, to myślimy o pikselach jako punktach pochodzących z ciągłej trójwymiarowej kostki (kolor)."
   ]
  },
  {
   "cell_type": "markdown",
   "metadata": {},
   "source": [
    "## Podejście maximum likelihood\n",
    "\n",
    "Załóżmy, że w $10$ rzutach monetą otrzymaliśmy $7$ orłów i $3$ reszki (rzuty są od siebie niezależne, więc istotna jest tylko sumaryczna liczba orłów i reszek, a nie kolejność wyników).\n",
    "\n",
    "<span style=\"color:red\">\n",
    "Uwaga! W dalszej części notebooka zakładamy, że zaobserwowane wyniki rzutów monetą to: ORZEŁ, ORZEŁ, RESZKA, RESZKA, ORZEŁ, RESZKA, ORZEŁ, ORZEŁ, ORZEŁ, ORZEŁ. Skrótowo (i nie do końca poprawnie) będziemy dalej mówić o tym konkretnym ciągu wyników \"siedem orłów i trzy reszki\". Kolejność wyników faktycznie nie ma znaczenia, ale czym innym jest dziesięć wyników o znanej kolejności - nawet jeśli potem ona nie ma znaczenia - a czym innym informacja, że w dziesięciu rzutach wypadło 7 orłów i 3 reszki w nieznanej kolejności. W tym drugim przypadku należałoby we wzorach na likelihood uwzględnić również stałą 120 - na tyle różnych sposobów można ustawić w ciąg 7 orłów i 3 reszki.\n",
    "</span>\n",
    "\n",
    "<span style=\"color:red\">\n",
    "Proszę również w tym kontekście zwrócić uwagę na Ćwiczenie 10.\n",
    "</span>\n",
    "\n",
    "<span style=\"color:red\">\n",
    "Błąd znalazła Yasia Romanets, bardzo dziękujemy za pomoc :)\n",
    "</span>\n",
    "\n",
    "Zdefiniujmy funkcję likelihood:\n",
    "$$L(\\theta|\\mathrm{obserwacje}) := P(\\mathrm{obserwacje}|\\theta)$$\n",
    "\n",
    "Chcemy tak dobrać $\\theta$, aby zmaksymalizować $L$ - innymi słowy wybieramy taką wartość $\\theta$, przy której mielibyśmy największe szanse na uzyskanie wyników, które zaobserwowaliśmy.\n",
    "\n",
    "$$L(\\theta|\\mathrm{obserwacje}) = P(\\mathrm{siedem~orłów~i~trzy~reszki}|\\theta) = \\theta^7 (1-\\theta)^3$$\n",
    "\n",
    "Okazuje się, że w wypadku prób Bernoulliego (rzutów niesymetryczną monetą) $L$ jest maksymalizowane przez:\n",
    "$$\\theta = \\frac{\\mathrm{liczba~sukcesów}}{\\mathrm{liczba~prób}}$$\n",
    "Innymi słowy, jeśli w $10$ rzutach wypadło $7$ orłów, to szacujemy prawdopodobieństwo wyrzucenia orła na $\\frac{7}{10}$."
   ]
  },
  {
   "cell_type": "markdown",
   "metadata": {},
   "source": [
    "## Ćwiczenie 1 (0,5 pkt)\n",
    "\n",
    "Narysować wykres funkcji $L(\\theta)$ dla $\\theta\\in[0,1]$. Zobaczyć, że maksimum jest w punkcie $\\frac{7}{10}$."
   ]
  },
  {
   "cell_type": "code",
   "execution_count": 1,
   "metadata": {
    "collapsed": false
   },
   "outputs": [
    {
     "data": {
      "image/png": "[encoded data removed]",
      "text/plain": [
       "<matplotlib.figure.Figure at 0x48b5be0>"
      ]
     },
     "metadata": {},
     "output_type": "display_data"
    }
   ],
   "source": [
    "def L(theta):\n",
    "    return theta**7 * (1.0 - theta)**3\n",
    "\n",
    "th = [0.01 * x for x in range(100)]\n",
    "ll = [L(x) for x in th]\n",
    "import matplotlib.pylab as plt\n",
    "_=plt.plot(th, ll)\n",
    "plt.show()"
   ]
  },
  {
   "cell_type": "markdown",
   "metadata": {},
   "source": [
    "## Ćwiczenie 2 (0,5 pkt)\n",
    "\n",
    "Symulator \"prawdziwej\" monety.\n",
    "\n",
    "Napisać funkcję flip_coin, która generuje wynik nb_flips rzutów monetą z prawdopodobieństwem wypadnięcia orła równym theta. Funkcja ma zwrócić tablicę zer i jedynek ($0$ - RESZKA, $1$ - ORZEŁ).\n"
   ]
  },
  {
   "cell_type": "code",
   "execution_count": 2,
   "metadata": {
    "collapsed": false
   },
   "outputs": [
    {
     "data": {
      "text/plain": [
       "[True, False, True, True, True, True, True, True, True, True]"
      ]
     },
     "execution_count": 2,
     "metadata": {},
     "output_type": "execute_result"
    }
   ],
   "source": [
    "import numpy \n",
    "def flip_coin(theta, nb_flips):\n",
    "    result = numpy.random.uniform(size=(nb_flips))\n",
    "    result = [ x<theta for x in result ]\n",
    "    \n",
    "    assert len(result) == nb_flips\n",
    "    return result\n",
    "\n",
    "flip_coin(0.7, 10)"
   ]
  },
  {
   "cell_type": "markdown",
   "metadata": {},
   "source": [
    "## Ćwiczenie 3 (1 pkt)\n",
    "\n",
    "Pierwszy model generatywny rzutu monetą.\n",
    "\n",
    "Napisać klasę CoinML (Maximum Likelihood) posiadającą metody fit i toss:\n",
    "- fit - przyjmuje listę obserwacji i oblicza self.theta korzystając z wzoru powyżej.\n",
    "- toss - generuje jeden rzut monetą z prawdopodobieństwem self.theta i zwraca 0 lub 1."
   ]
  },
  {
   "cell_type": "code",
   "execution_count": null,
   "metadata": {
    "collapsed": false
   },
   "outputs": [],
   "source": [
    "class CoinML(object):\n",
    "\n",
    "    def __init__(self):\n",
    "        self.theta = None\n",
    "\n",
    "    def fit(self, X):\n",
    "        self.theta = 1.0 * numpy.sum(X) / len(X)\n",
    "\n",
    "    def toss(self):\n",
    "        return flip_coin(self.theta, 1)[0]\n",
    "        \n",
    "# mój super test\n",
    "tada = CoinML()\n",
    "tada.fit([1,1,1,1,1,0])\n",
    "print tada.theta\n",
    "print tada.toss()"
   ]
  },
  {
   "cell_type": "markdown",
   "metadata": {},
   "source": [
    "## Wzór Bayesa\n",
    "\n",
    "Załóżmy teraz, że w \"fabryce monet\" produkowane są tylko monety symetryczne ($\\theta = 0.5$) oraz monety z wadą ($\\theta = 0.6$).\n",
    "\n",
    "W 10 rzutach monetą otrzymaliśmy 7 orłów i 3 reszki. Jak teraz wybrać właściwe $\\theta$?\n",
    "\n",
    "Można np. porównać $L(0.5) < L(0.6)$ i zdecydować się na $\\theta=0.6$.\n",
    "\n",
    "Załóżmy inaczej - wiemy, że średnio co piąta moneta produkowana jest z wadą. Czy wtedy też wybierzemy $\\theta=0.6$? A jeśli tylko jedna na tysiąc jest wadliwa? Jak bardzo nieprawdopodobne musi być to, że nasza moneta jest wadliwa, abyśmy przestali wierzyć funkcji likelihood?"
   ]
  },
  {
   "cell_type": "markdown",
   "metadata": {},
   "source": [
    "https://xkcd.com/1132/\n",
    "\n",
    "https://www.explainxkcd.com/wiki/index.php/1132:_Frequentists_vs._Bayesians\n",
    "\n",
    "<img src=\"figures/L2/frequentists_vs_bayesians.png\">"
   ]
  },
  {
   "cell_type": "markdown",
   "metadata": {},
   "source": [
    "## Prawdopodobieństwo warunkowe - przypomnienie\n",
    "\n",
    "https://www.youtube.com/watch?v=H02B3aMNKzE\n",
    "\n",
    "<img src=\"figures/L2/cond_prob.jpg\">"
   ]
  },
  {
   "cell_type": "markdown",
   "metadata": {},
   "source": [
    "## Wzór Bayesa\n",
    "\n",
    "A - parametry rozkładu.\n",
    "B - obserwacja.\n",
    "\n",
    "$$P(A\\mid B) = \\frac{P(B\\mid A)\\,P(A)}{P(B)}$$\n",
    "\n",
    "Wersja rozszerzona, używana np. wtedy (w praktyce zawsze), gdy nie znamy prawdopodobieństwa B, ale znamy je z osobna dla każdego zestawu parametrów A.\n",
    "\n",
    "$$P(B) = {\\sum_j P(B\\mid A_j) P(A_j)}$$\n",
    "$$P(A_i\\mid B) = \\frac{P(B\\mid A_i)\\,P(A_i)}{\\sum\\limits_j P(B\\mid A_j)\\,P(A_j)}$$\n",
    "\n",
    "Prawdopodobieństwa $P(A_i)$ po prawej stronie wzoru nazywamy wiedzą a priori, $P(A_i\\mid B)$ po lewej wiedzą a posteriori. Gdy pojawią się nowe obserwacje, wiedza a posteriori staje się znowu wiedzą a priori i stosujemy wzór Bayesa kolejny raz ($P(A_i\\mid B_{\\mathrm{stare}})$ podstawiamy pod $P(A_i)$ i liczymy $P(A_i\\mid B_{\\mathrm{nowe}})$). Niezależnie od obserwacji $P(B\\mid A_i)$ nie ulega zmianie (dlaczego?).\n",
    "\n",
    "Wróćmy do przykładu, w którym średnio co piąta moneta jest wadliwa. Niech $A_1$ oznacza $\\theta = 0.5$, a $A_2$ oznacza $\\theta = 0.6$. B to nasze obserwacje - siedem orłów i trzy reszki. Wtedy:\n",
    "- $P(A_1) = \\frac45$,\n",
    "- $P(A_2) = \\frac15$,\n",
    "- $P(B\\mid A_1) = (\\frac12)^7(\\frac12)^3 = \\frac{1}{1024}$,\n",
    "- $P(B\\mid A_2) = (\\frac{6}{10})^7(\\frac{4}{10})^3 = \\frac{17496}{9765625}$,\n",
    "- $P(A_1\\mid B) = \\frac{ \\frac45 \\frac{1}{1024} }{ \\frac45 \\frac{1}{1024} + \\frac15 \\frac{17496}{9765625} } \\approx 0.686$\n",
    "- $P(A_2\\mid B) = \\frac{ \\frac15 \\frac{17496}{9765625} }{ \\frac45 \\frac{1}{1024} + \\frac15 \\frac{17496}{9765625} } \\approx 0.314$\n",
    "\n",
    "Czyli wciąż jest około dwa razy większa szansa, że rzucamy symetryczną monetą!"
   ]
  },
  {
   "cell_type": "markdown",
   "metadata": {},
   "source": [
    "#### Uwaga 1.\n",
    "Obserwacje można podać w dowolnej kolejności, można podawać je po jednej i stosować wzór wielokrotnie, można po kilka, można wszystkie jednocześnie, a wynik będzie ten sam...\n",
    "\n",
    "#### Uwaga 2.\n",
    "...teoretycznie, bo w praktyce jeśli obserwacji jest dużo, to mamy szansę uzyskać błędny wynik ze względu na numeryczną niestabilność."
   ]
  },
  {
   "cell_type": "markdown",
   "metadata": {},
   "source": [
    "# Najważniejsza rzecz do zrozumienia - robimy rozkład prawdopodobieństwa na rozkładach prawdopodobieństwa!\n",
    "\n",
    "<img src=\"figures/L2/dawg_bayes.jpg\">\n",
    "\n",
    "Nasza moneta jest opisana rozkładem prawdopodobieństwa na dwóch możliwych zdarzeniach elementarnych (wynikach rzutu) {ORZEŁ, RESZKA}:\n",
    "- $P(\\mathrm{ORZEŁ}) = \\theta$,\n",
    "- $P(\\mathrm{RESZKA}) = 1 - \\theta$.\n",
    "\n",
    "Na tych rozkładach robimy drugi rozkład prawdopodobieństwa:\n",
    "- $\\mathcal{P}(\\theta=0.5) = \\frac45$,\n",
    "- $\\mathcal{P}(\\theta=0.6) = \\frac15$.\n",
    "\n",
    "Rozkłady $P$ **nie ulegają zmianie**. Jest to rodzina wszystkich możliwych rozkładów, które bierzemy pod uwagę (w tym wypadku mamy dwa rozkłady dla dwóch różnych $\\theta$; zawsze zakładamy, że dokładnie jeden z nich jest \"prawdziwy\").\n",
    "\n",
    "Rozkład $\\mathcal{P}$ **ulega zmianie** po każdej nowej obserwacji."
   ]
  },
  {
   "cell_type": "markdown",
   "metadata": {},
   "source": [
    "## Dwa sposoby interpretowania prawdopodobieństwa\n",
    "\n",
    "1. Jako cecha pewnego obiektu ($P$ jest \"wbudowaną\" własnością monety).\n",
    "\n",
    "2. Jako stan naszej wiedzy o świecie ($\\mathcal{P}$ nie jest cechą żadnej istniejącej rzeczy, dlatego może ulegać zmianom).\n",
    "\n",
    "Jeśli interpretujemy $\\mathcal{P}$ jako wiedzę, to nie powinna nas dziwić Uwaga 1.\n",
    "\n",
    "Przy dużej liczbie obserwacji cała gęstość rozkładu $\\mathcal{P}$ zaczyna koncentrować się bardzo blisko wokół prawdziwego $P$.\n",
    "\n",
    "Zazwyczaj jeśli rozkład $P$ zależy od parametrów - w tym wypadku $\\theta$ - to te parametry piszemy w indeksie dolnym. Jeśli rozpatrujemy wszystkie możliwe $\\theta$, to napisalibyśmy, że $\\{P_\\theta\\}_{\\theta\\in[0,1]}$ jest sparametryzowaną rodziną rozkładów prawdopodobieństwa.\n",
    "\n",
    "W bardziej skomplikowanych problemach nie da się sensownie sparametryzować kilkoma liczbami wszystkich możliwych rozkładów prawdopodobieństwa, ale mimo to czasem staramy się to zrobić. Dzięki temu można próbować udowadniać twierdzenia, które zakładają uproszczony obraz świata, a następnie stosować je jako heurystyki.\n",
    "\n",
    "Z punktu widzenia wzoru Bayesa rodzina rozpatrywanych rozkładów prawdopodobieństwa nie musi być wcale sparametryzowana - jeśli mamy zbiór takich rozkładów, to możemy je po prostu ponumerować i piszemy wtedy np. $\\mathcal{P}(P_1) = 0.7, \\mathcal{P}(P_2) = 0.1, \\mathcal{P}(P_3) = 0.15, \\ldots$"
   ]
  },
  {
   "cell_type": "markdown",
   "metadata": {},
   "source": [
    "#### Uwaga 3.\n",
    "\n",
    "Jeśli przyjmiemy, że pewien rozkład $P$ ma a priori $\\mathcal{P}$ równe zero, to $\\mathcal{P}$ a posteriori też będzie równe zero, niezależnie od siły dowodów przemawiających za tym konkretnym $P$. Dlatego nie należy wykluczać a priori żadnego $P$, jeśli nie jesteśmy całkowicie pewni, że jest ono niemożliwe.\n",
    "\n",
    "Przy braku wiedzy a priori trzeba tak dobrać $\\mathcal{P}$, aby wszędzie było niezerowe (np. jeśli bierzemy pod uwagę $n$ różnych rozkładów $P$, to $\\mathcal{P}$ jest równe stale $\\frac1n$; jeśli rozkłady są sparametryzowane odcinkiem $[a,b]$, to $\\mathcal{P}$ jest rozkładem jednostajnym na tym odcinku; jeśli rozkłady są sparametryzowane całą prostą rzeczywistą, to $\\mathcal{P}$ oczywiście nie może być rozkładem jednostajnym, wtedy używamy np. rozkładu Gaussa o średniej zero i wariancji jeden; itd.).\n",
    "\n",
    "#### Uwaga 4.\n",
    "\n",
    "W wypadku rzutu monetą mamy tylko dwa możliwe zdarzenia elementarne, więc wszystkie rozkłady można sparametryzować odcinkiem $[0,1]$.\n",
    "\n",
    "Dla kostki sześciennej jest podobnie - jest sześć zdarzeń elementarnych, więc wszystkie rozkłady można sparametryzować szóstkami nieujemnych liczb rzeczywistych, które sumują się do jedności (5-wymiarowy sympleks w $\\mathbb{R}^6$).\n",
    "\n",
    "W obu powyższych przypadkach zdarzeń elementarnych jest skończenie wiele, a możliwych rozkładów continuum.\n",
    "\n",
    "Ale co się dzieje, gdy zdarzeń elementarnych jest nieskończenie wiele? Można np. powiedzieć, że przestrzeń kolorów jest ciągła i wtedy wszystkich możliwych obrazków jest nieskończenie wiele (continuum). Da się udowodnić, że możliwych rozkładów prawdopodobieństwa $P$ wciąż jest continuum, ale ciężko nadać im jakąkolwiek strukturę i zdefiniować $\\mathcal{P}$ jako rozkład jednostajny na niej."
   ]
  },
  {
   "cell_type": "markdown",
   "metadata": {},
   "source": [
    "## Podejście maximum a posteriori\n",
    "\n",
    "Zasada postępowania jest prosta:\n",
    "1. Mamy dany pewien rozkład a priori oraz obserwacje.\n",
    "2. Korzystając ze wzoru Bayesa obliczamy rozkład a posteriori.\n",
    "3. Wybieramy ten rozkład $P$, którego prawdopodobieństwo a posteriori jest największe."
   ]
  },
  {
   "cell_type": "markdown",
   "metadata": {},
   "source": [
    "## Ćwiczenie 4 (1 pkt)\n",
    "\n",
    "Napisać klasę CoinMAP (Maximum A Posteriori) posiadającą metody fit i toss:\n",
    "- konstruktor - przyjmuje prior, który może np. być słownikiem (klucz - $\\theta$, wartość - jej prawdopodobieństwo a priori),\n",
    "- fit - przyjmuje listę obserwacji i uaktualnia self.knowledge, korzystając ze wzoru Bayesa, a następnie ustawia self.theta wybierając odpowiednią wartość z self.knowledge,\n",
    "- toss - generuje jeden rzut monetą z prawdopodobieństwem self.theta i zwraca 0 lub 1."
   ]
  },
  {
   "cell_type": "code",
   "execution_count": 3,
   "metadata": {
    "collapsed": false
   },
   "outputs": [
    {
     "name": "stdout",
     "output_type": "stream",
     "text": [
      "model.knowledge powinno wyjść {0.5: 0.686, 0.6: 0.314}\n",
      "{0.5: 0.6855667631546858, 0.6: 0.3144332368453142}\n",
      "Powinno wyjść 0.5: 0.5\n",
      "Powinno wyjść 1: 1.0\n",
      "model.knowledge powinno wyjść {0.5: 0.362, 0.6: 0.265, 0.8: 0.373}\n",
      "{0.5: 0.36171237227008995, 0.6: 0.2654373534598428, 0.8: 0.3728502742700672}\n",
      "Powinno wyjść 0.8: 0.8\n",
      "Powinno wyjść 1: 1.0\n"
     ]
    }
   ],
   "source": [
    "import numpy as np\n",
    "\n",
    "class CoinMAP(object):\n",
    "    def __init__(self, prior):\n",
    "        self.knowledge = prior\n",
    "        self.theta=0\n",
    "        self.chooseTheta()\n",
    "        \n",
    "    def chooseTheta(self):\n",
    "        # wybierz klucz którego wartość jest największa\n",
    "        self.theta = max(self.knowledge, key= lambda k: self.knowledge[k])\n",
    "        \n",
    "    def fit(self, X):\n",
    "        obserwacjaIleJedynek = 1.0 * np.sum(X)\n",
    "        obserwacjaIleZer = 1.0*(len(X)-np.sum(X))\n",
    "        \n",
    "        pObserwacji = {x: 1.0 * x**obserwacjaIleJedynek * (1.0-x)**obserwacjaIleZer  for x in self.knowledge} \n",
    "        mianownik = sum([ self.knowledge[x]*pObserwacji[x]  for x in self.knowledge])\n",
    "        pMonet = {x: self.knowledge[x]*pObserwacji[x]/mianownik   for x in self.knowledge  }\n",
    "        \n",
    "        self.knowledge = pMonet\n",
    "        self.chooseTheta()\n",
    "\n",
    "    def toss(self):\n",
    "         return flip_coin(self.theta, 1)[0]\n",
    "\n",
    "model = CoinMAP({0.5: 0.8, 0.6: 0.2})\n",
    "model.fit(np.array([1,0,1,1,1,0,0,1,1,1]))\n",
    "print \"model.knowledge powinno wyjść {0.5: 0.686, 0.6: 0.314}\"\n",
    "print model.knowledge\n",
    "print \"Powinno wyjść 0.5:\", model.theta\n",
    "print \"Powinno wyjść 1:\", sum(model.knowledge.values())\n",
    "\n",
    "model = CoinMAP({0.5: 0.5, 0.6: 0.2, 0.8: 0.3})\n",
    "model.fit(np.array([1,0,1,1,1,0,0,1,1,1]))\n",
    "print \"model.knowledge powinno wyjść {0.5: 0.362, 0.6: 0.265, 0.8: 0.373}\"\n",
    "print model.knowledge\n",
    "print \"Powinno wyjść 0.8:\", model.theta\n",
    "print \"Powinno wyjść 1:\", sum(model.knowledge.values())"
   ]
  },
  {
   "cell_type": "markdown",
   "metadata": {},
   "source": [
    "## Jedyne Słuszne Podejście - całka po rozkładzie a posteriori\n",
    "\n",
    "Dotychczas korzystaliśmy tylko z części wiedzy na temat rozkładów - dlaczego nie użyć jej całej?\n",
    "\n",
    "Jeśli wiemy, że z prawdopodobieństwem 0.686 prawdopodobieństwo wypadnięcia orła wynosi 0.5, a z prawdopodobieństwem 0.314 prawdopodobieństwo wypadnięcia orła wynosi 0.6, to jakie jest ostateczne prawdopodobieństwo wypadnięcia orła?\n",
    "\n",
    "$$P(\\mathrm{ORZEŁ}) = \\mathcal{P}(\\theta = 0.5)P(\\mathrm{ORZEŁ} \\mid \\theta = 0.5) + \\mathcal{P}(\\theta = 0.6)P(\\mathrm{ORZEŁ} \\mid \\theta = 0.6) = 0.686 * 0.5 + 0.314 * 0.6 \\approx 0.531 $$\n",
    "\n",
    "W wersji z większą liczbą możliwych wartości $\\theta$:\n",
    "$$P(\\mathrm{ORZEŁ}) = \\sum_{\\theta_j} \\mathcal{P}(\\theta = \\theta_j)P(\\mathrm{ORZEŁ} \\mid \\theta = \\theta_j) = \\sum_{\\theta_j} \\mathcal{P}(\\theta = \\theta_j)\\theta_j $$\n",
    "\n",
    "#### Uwaga 5.\n",
    "\n",
    "Opisane tu podejście jest jedynym poprawnym sposobem uczenia się rozkładu danych na podstawie obserwacji. Nie będzie niespodzianką fakt, że w praktyce jest ono niewykonalne..."
   ]
  },
  {
   "cell_type": "markdown",
   "metadata": {},
   "source": [
    "## Ćwiczenie 5 (2 pkt)\n",
    "\n",
    "Napisać klasę CoinBest, która działa jak CoinMAP z tą różnicą, że self.theta jest obliczane powyższym wzorem, a nie wybierane spośród wartości self.knowledge."
   ]
  },
  {
   "cell_type": "code",
   "execution_count": 4,
   "metadata": {
    "collapsed": false
   },
   "outputs": [
    {
     "name": "stdout",
     "output_type": "stream",
     "text": [
      "model.knowledge powinno wyjść {0.5: 0.686, 0.6: 0.314}\n",
      "{0.5: 0.6855667631546858, 0.6: 0.3144332368453142}\n",
      "Powinno wyjść około 0.53: 0.531443323685\n",
      "Powinno wyjść 1: 1.0\n",
      "model.knowledge powinno wyjść {0.5: 0.362, 0.6: 0.265, 0.8: 0.373}\n",
      "{0.5: 0.36171237227008995, 0.6: 0.2654373534598428, 0.8: 0.3728502742700672}\n",
      "Powinno wyjść około 0.64: 0.638398817627\n",
      "Powinno wyjść 1: 1.0\n"
     ]
    }
   ],
   "source": [
    "class CoinBest(CoinMAP):\n",
    "     def chooseTheta(self):\n",
    "        self.theta = sum([x * self.knowledge[x] for x in self.knowledge ])\n",
    "    \n",
    "model = CoinBest({0.5: 0.8, 0.6: 0.2})\n",
    "model.fit(np.array([1,0,1,1,1,0,0,1,1,1]))\n",
    "print \"model.knowledge powinno wyjść {0.5: 0.686, 0.6: 0.314}\"\n",
    "print model.knowledge\n",
    "print \"Powinno wyjść około 0.53:\", model.theta\n",
    "print \"Powinno wyjść 1:\", sum(model.knowledge.values())\n",
    "\n",
    "model = CoinBest({0.5: 0.5, 0.6: 0.2, 0.8: 0.3})\n",
    "model.fit(np.array([1,0,1,1,1,0,0,1,1,1]))\n",
    "print \"model.knowledge powinno wyjść {0.5: 0.362, 0.6: 0.265, 0.8: 0.373}\"\n",
    "print model.knowledge\n",
    "print \"Powinno wyjść około 0.64:\", model.theta\n",
    "print \"Powinno wyjść 1:\", sum(model.knowledge.values())"
   ]
  },
  {
   "cell_type": "markdown",
   "metadata": {},
   "source": [
    "## Porównanie powyższych metod\n",
    "\n",
    "Wybiegnijmy trochę do przodu:\n",
    "- ML jest najgorsze, ale najprostsze,\n",
    "- ML z sensowną regularyzacją ma przybliżać MAP,\n",
    "- MAP przy dużej liczbie obserwacji przybliża całkę po rozkładzie a posteriori.\n"
   ]
  },
  {
   "cell_type": "markdown",
   "metadata": {},
   "source": [
    "## Metoda Monte Carlo\n",
    "(tak naprawdę metody, bo jest ich wiele, ale wszystkie opierają się na jednym prostym pomyśle)\n",
    "\n",
    "Przykład:\n",
    "\n",
    "Załóżmy, że opracowaliśmy nową strategię gry w Blackjacka, która zakłada m.in. zliczanie schodzących kart. Zanim zaczniemy stosować ją w kasynie chcemy upewnić się, że faktycznie jest ona skuteczna, to znaczy średnia wygrana jest większa od zera (albo średnia wygrana na godzinę gry jest większa od płacy minimalnej).\n",
    "\n",
    "Krupier gra deterministycznie, więc przebieg gry zależy tylko i wyłącznie od kolejności kart w talii. Niestety, takich ułożeń jest bardzo dużo, a ponadto zasady Blackjacka przewidują kilka specjalnych sytuacji, przez co bardzo ciężko (jeśli jest to w ogóle możliwe) zapisać wzór na średnią wygraną. Co zrobić w takiej sytuacji?\n",
    "\n",
    "Rozwiązanie:\n",
    "\n",
    "Skoro krupier jest deterministyczny, to rozgrywamy bardzo dużo (im więcej, tym lepiej) gier z symulowanym krupierem i uśredniamy wygrane.\n",
    "\n",
    "Monte Carlo!\n",
    "\n",
    "#### Uwaga 6.\n",
    "\n",
    "Jeśli tylko da się nie używać Monte Carlo, to należy nie używać Monte Carlo. Ale zazwyczaj się nie da."
   ]
  },
  {
   "cell_type": "markdown",
   "metadata": {},
   "source": [
    "## Paradoks Monty'ego Halla\n",
    "\n",
    "Przeliczmy jeszcze raz przykład z wykładu, korzystając ze wzoru Bayesa.\n",
    "\n",
    "Przypomnienie:\n",
    "\n",
    "Mamy trzy bramki, za jedną z nich znajduje się nagroda, za pozostałymi dwiema koza. Gracz wybiera jedną z trzech bramek. Prowadzący grę, który zna położenie nagrody, odsłania jedną z pozostałych dwóch bramek, przy czym zawsze w odsłoniętej bramce znajduje się koza. Gracz ma teraz możliwość zmiany bramki.\n",
    "\n",
    "Wersja z piorunem: po wybraniu bramki piorun trafia losowo w jedną z pozostałych dwóch i odsłania jej zawartość. Gracz ma możliwość zmiany bramki na drugą zasłoniętą.\n",
    "\n",
    "Zastanówmy się chwilę, jak zdefiniować $P$ i $\\mathcal{P}$. Interesującą nas wielkością jest prawdopodobieństwo wygranej po wybraniu pewnej ustalonej bramki. Załóżmy na chwilę, że nagroda znajduje się w pierwszej bramce. Wtedy prawdopodobieństwo wygranej przy wybraniu pierwszej bramki wynosi 100%, natomiast w wypadku drugiej i trzeciej jest to oczywiście 0%. Mówienie w tym miejscu o prawdopodobieństwach może wydawać się sztuczne, ale jest to konieczne, aby móc zastosować wzór Bayesa. Możemy myśleć o trzech bramkach jako o trzech monetach, z których dokładnie jedna ma $\\theta = 1$, a pozostałe dwie $0$.\n",
    "\n",
    "Jeśli trzy bramki zwracają nagrody z prawdopodobieństwami odpowiednio $\\theta_1$, $\\theta_2$ i $\\theta_3$, to zapiszemy taką sytuację jako:\n",
    "$$P \\sim (\\theta_1, \\theta_2, \\theta_3)$$\n",
    "\n",
    "W takim razie mamy dokładnie trzy możliwości:\n",
    "- $P_1 \\sim (1,0,0)$,\n",
    "- $P_2 \\sim (0,1,0)$,\n",
    "- $P_3 \\sim (0,0,1)$.\n",
    "\n",
    "Każda z nich jest a priori jednakowo prawdopodobna, możemy więc zapisać:\n",
    "- $\\mathcal{P}(P_1) = \\frac13$,\n",
    "- $\\mathcal{P}(P_2) = \\frac13$,\n",
    "- $\\mathcal{P}(P_3) = \\frac13$.\n",
    "\n",
    "Załóżmy teraz, że gracz wybrał na początku bramkę nr 1. Prowadzący odsłonił bramkę nr 2 i była tam koza. Jak zmieniła się wartość $\\mathcal{P}$? Zauważmy, że:\n",
    "- $P(\\mathrm{obserwacja}\\mid P_1) = \\frac12$ - ponieważ jeśli nagroda jest w pierwszej bramce, to prowadzący losowo odsłania bramkę nr 2 lub nr 3,\n",
    "- $P(\\mathrm{obserwacja}\\mid P_2) = 0$ - nagroda nie może być w bramce z kozą,\n",
    "- $P(\\mathrm{obserwacja}\\mid P_3) = 1$ - prowadzący musi odsłonić bramkę nr 2.\n",
    "\n",
    "Podstawiając do wzoru Bayesa (proszę przeliczyć to przynajmniej raz na kartce) otrzymamy ostatecznie:\n",
    "- $\\mathcal{P}(P_1\\mid\\mathrm{obserwacja}) = \\frac13$,\n",
    "- $\\mathcal{P}(P_2\\mid\\mathrm{obserwacja}) = 0$,\n",
    "- $\\mathcal{P}(P_3\\mid\\mathrm{obserwacja}) = \\frac23$\n",
    "\n",
    "na końcu dla każdej bramki liczymy prawdopodobieństwo wylosowania nagrody po wyborze tejże bramki - oczywiście w tym celu liczymy całkę po rozkładzie a posteriori i otrzymujemy prawdopodobieństwa: $\\frac13 * 1 + 0 * 0 + \\frac23 * 0 = \\frac13, \\frac13 * 0 + 0 * 1 + \\frac23 * 0 = 0, \\frac13 * 0 + 0 * 0 + \\frac23 * 1 = \\frac23$. Dlatego opłaca się zmienić bramkę na trzecią.\n",
    "\n",
    "Wersja z piorunem: gracz wybrał na początku bramkę nr 1. Piorun uderzył w bramkę nr 2 i była tam koza. Jak zmieniła się wartość $\\mathcal{P}$? Zauważmy, że:\n",
    "- $P(\\mathrm{obserwacja}\\mid P_1) = \\frac12$ - piorun uderza losowo,\n",
    "- $P(\\mathrm{obserwacja}\\mid P_2) = 0$ - nagroda nie może być w bramce z kozą,\n",
    "- $P(\\mathrm{obserwacja}\\mid P_3) = \\frac12$ - piorun uderza losowo.\n",
    "\n",
    "Podstawiając do wzoru Bayesa (proszę przeliczyć to przynajmniej drugi raz na kartce) otrzymamy ostatecznie:\n",
    "- $\\mathcal{P}(P_1\\mid\\mathrm{obserwacja}) = \\frac12$,\n",
    "- $\\mathcal{P}(P_2\\mid\\mathrm{obserwacja}) = 0$,\n",
    "- $\\mathcal{P}(P_3\\mid\\mathrm{obserwacja}) = \\frac12$\n",
    "\n",
    "a po policzeniu całek po rozkładzie a posteriori otrzymamy prawdopodobieństwa $\\frac12, 0, \\frac12$ i dlatego nie ma znaczenia, czy zmienimy bramkę na trzecią.\n",
    "\n",
    "Pytanie kontrolne - dlaczego musimy liczyć całki po rozkładzie a posteriori, skoro wynik wychodzi taki sam, jak rozkład a posteriori?"
   ]
  },
  {
   "cell_type": "markdown",
   "metadata": {},
   "source": [
    "## Ćwiczenie 6 (1 pkt)\n",
    "\n",
    "Zasymulować metodą Monte Carlo przebieg rozgrywki dla gracza, który:\n",
    "- nie zmienia bramki,\n",
    "- zawsze zmienia bramkę,\n",
    "\n",
    "w przypadku:\n",
    "- zwykłym,\n",
    "- z piorunem, a jeśli trafi w nagrodę to:\n",
    "\t- powtórka,\n",
    "\t- przegrana.\n",
    "\n",
    "Wypisać średnią wygraną."
   ]
  },
  {
   "cell_type": "code",
   "execution_count": 4,
   "metadata": {
    "collapsed": false
   },
   "outputs": [
    {
     "name": "stdout",
     "output_type": "stream",
     "text": [
      "1\n"
     ]
    }
   ],
   "source": [
    "import numpy as np\n",
    "print np.random.randint(3)"
   ]
  },
  {
   "cell_type": "code",
   "execution_count": 35,
   "metadata": {
    "collapsed": false
   },
   "outputs": [
    {
     "name": "stdout",
     "output_type": "stream",
     "text": [
      "0.334\n",
      "0.503\n",
      "0.332\n",
      "0.645\n",
      "0.506\n",
      "0.323\n"
     ]
    }
   ],
   "source": [
    "import numpy as np\n",
    "\n",
    "s = 1000\n",
    "\n",
    "# spodziewany wynik:\n",
    "#  - bez zmiany bramki:\n",
    "#     - zwykły: 1/3\n",
    "gracz = np.random.randint(3, size=(s))\n",
    "nagroda = np.random.randint(3, size=(s))\n",
    "print 1.0*sum(gracz == nagroda)/s\n",
    "\n",
    "#     - piorun z powtórką: 1/2 \n",
    "gracz = np.random.randint(3, size=(s))\n",
    "nagroda = np.random.randint(3, size=(s))\n",
    "piorun = np.random.randint(3, size=(s))\n",
    "for i in range(s):\n",
    "    while True:\n",
    "        while piorun[i] == gracz[i]:\n",
    "            piorun[i] = np.random.randint(3)\n",
    "        if not nagroda[i] == piorun[i]:\n",
    "            break\n",
    "        else:\n",
    "            gracz[i] = np.random.randint(3)\n",
    "            nagroda[i] = np.random.randint(3)\n",
    "            piorun[i] = np.random.randint(3)\n",
    "print 1.0*sum(gracz == nagroda)/s\n",
    "\n",
    "\n",
    "#     - piorun z przegraną: 1/3\n",
    "gracz = np.random.randint(3, size=(s))\n",
    "nagroda = np.random.randint(3, size=(s))\n",
    "piorun = np.random.randint(3, size=(s))\n",
    "for i in range(s):\n",
    "    while piorun[i] == gracz[i]:\n",
    "        piorun[i] = np.random.randint(3)\n",
    "    if nagroda[i] == piorun[i]:\n",
    "        gracz[i] = -1\n",
    "print 1.0*sum(gracz == nagroda)/s\n",
    "\n",
    "#  - ze zmianą bramki:\n",
    "#     - zwykły: 2/3\n",
    "gracz = np.random.randint(3, size=(s))\n",
    "nagroda = np.random.randint(3, size=(s))\n",
    "mistrz = [0 for x in range(s)]\n",
    "zmiana = [0 for x in range(s)]\n",
    "for i in range(s):\n",
    "    while mistrz[i] == gracz[i] or mistrz[i]==nagroda[i]:\n",
    "        mistrz[i] = np.random.randint(3)\n",
    "    while zmiana[i] == mistrz[i] or zmiana[i]==gracz[i]:\n",
    "        zmiana[i] = np.random.randint(3)\n",
    "print 1.0*sum(zmiana == nagroda)/s\n",
    "\n",
    "#     - piorun z powtórką: 1/2\n",
    "gracz = np.random.randint(3, size=(s))\n",
    "piorun = np.random.randint(3, size=(s))\n",
    "nagroda = np.random.randint(3, size=(s))\n",
    "zmiana = [0 for x in range(s)]\n",
    "for i in range(s):\n",
    "    while True:\n",
    "        while piorun[i] == gracz[i]:\n",
    "            piorun[i] = np.random.randint(3)\n",
    "        while zmiana[i] == piorun[i] or zmiana[i]==gracz[i]:\n",
    "            zmiana[i] = np.random.randint(3)\n",
    "        if not nagroda[i] == piorun[i]:\n",
    "            break\n",
    "        else:\n",
    "            gracz[i] = np.random.randint(3)\n",
    "            nagroda[i] = np.random.randint(3)\n",
    "            piorun[i] = np.random.randint(3)\n",
    "            zmiana[i] = np.random.randint(3)\n",
    "print 1.0*sum(zmiana == nagroda)/s\n",
    "\n",
    "\n",
    "#     - piorun z przegraną: 1/3\n",
    "gracz = np.random.randint(3, size=(s))\n",
    "piorun = np.random.randint(3, size=(s))\n",
    "nagroda = np.random.randint(3, size=(s))\n",
    "zmiana = [0 for x in range(s)]\n",
    "for i in range(s):\n",
    "    while piorun[i] == gracz[i]:\n",
    "        piorun[i] = np.random.randint(3)\n",
    "    while zmiana[i] == piorun[i] or zmiana[i]==gracz[i]:\n",
    "        zmiana[i] = np.random.randint(3)\n",
    "    if nagroda[i] == piorun[i]:\n",
    "        zmiana[i] = -1\n",
    "print 1.0*sum(zmiana == nagroda)/s\n"
   ]
  },
  {
   "cell_type": "markdown",
   "metadata": {},
   "source": [
    "## Ćwiczenie 7 (1 pkt)\n",
    "\n",
    "Losujemy $k=100$ razy liczbę od $1$ do $m=200$ z rozkładem jednostajnym. Ile średnio różnych liczb wylosujemy?\n",
    "Rozwiązać metodą Monte Carlo.\n",
    "\n",
    "https://math.dartmouth.edu/archive/m19w03/public_html/Section6-5.pdf - czy wynik zgadza się z tw. 6.14?\n"
   ]
  },
  {
   "cell_type": "code",
   "execution_count": 11,
   "metadata": {
    "collapsed": false
   },
   "outputs": [
    {
     "data": {
      "text/plain": [
       "[0, 1, 2, 3, 4, 5, 6, 7, 8, 9]"
      ]
     },
     "execution_count": 11,
     "metadata": {},
     "output_type": "execute_result"
    }
   ],
   "source": [
    "range(10)"
   ]
  },
  {
   "cell_type": "code",
   "execution_count": 56,
   "metadata": {
    "collapsed": false
   },
   "outputs": [
    {
     "name": "stdout",
     "output_type": "stream",
     "text": [
      "77.7323529412 =?= 186.602032514\n"
     ]
    }
   ],
   "source": [
    "import numpy as np\n",
    "def f(k, m, nb_simulations):\n",
    "    simul = [0 for x in range(nb_simulations)]\n",
    "    \n",
    "    for it in range(nb_simulations):\n",
    "        liczby = np.random.randint(1, m, size=(k))\n",
    "        liczby = np.sort(liczby)\n",
    "        for x in range(k-1):\n",
    "            if not (liczby[x] ==  liczby[x+1]):\n",
    "                simul[it]+=1\n",
    "                \n",
    "    return np.mean(simul)\n",
    "\n",
    "k = 100\n",
    "m = 200\n",
    "print f(k, m, nb_simulations=340), \"=?=\",  m-(k * (1 - 1/float(k))**m)\n",
    "#Wydaje się że ten ich wzór bardzo źle działa. jak mogę wylosować 186 różnych liczb losując ich 100?"
   ]
  },
  {
   "cell_type": "markdown",
   "metadata": {},
   "source": [
    "## Rozkład Gaussa - przypomnienie\n",
    "\n",
    "Spróbujmy zaprzyjaźnić się z n-wymiarowym rozkładem Gaussa.\n",
    "\n",
    "wzór na gęstość rozkładu gaussa:\n",
    "\n",
    "$$f(x \\; | \\; \\mu, \\sigma^2) = \\frac{1}{\\sqrt{2\\sigma^2\\pi} } \\; e^{ -\\frac{(x-\\mu)^2}{2\\sigma^2} }$$\n",
    "\n",
    "wersja n-wymiarowa:\n",
    "https://en.wikipedia.org/wiki/Multivariate_normal_distribution\n",
    "\n",
    "Macierz kowariancji rozkładu n-wymiarowego musi być dodatnio określona."
   ]
  },
  {
   "cell_type": "markdown",
   "metadata": {},
   "source": [
    "## Ćwiczenie 8 (2 pkt)\n",
    "\n",
    "Napisać funkcję, która przyjmuje parametry rozkładu normalnego: średnią oraz macierz kowariancji, liczbę sampli, a następnie sampluje punkty z tego rozkładu i rysuje na plaszczyźnie. Ponadto na rysunku należy zaznaczyć strzałkami wektory własne macierzy kowariancji (punkt zaczepienia to średnia rozkładu normalnego) i wypisać odpowiadające im wartości własne.\n",
    "\n",
    "Narysować powyższe dla kilku różnych losowo wybranych średnich i macierzy kowariancji (http://stackoverflow.com/questions/619335/a-simple-algorithm-for-generating-positive-semidefinite-matrices).\n"
   ]
  },
  {
   "cell_type": "code",
   "execution_count": 237,
   "metadata": {
    "collapsed": false
   },
   "outputs": [
    {
     "name": "stdout",
     "output_type": "stream",
     "text": [
      "srednia  [ 10.62140011  10.03182573]\n",
      "cov  [[ 0.51980869  0.62675025]\n",
      " [ 0.62675025  1.42440699]]\n",
      "wartosci wlasne  [ 0.1991975   1.74501819]\n",
      "wektory wlasne  [[ 0.89027795 -0.45541757]\n",
      " [ 0.45541757  0.89027795]]\n",
      "0.0\n",
      "Macierz cov zadaje transformacje na okręgu jednostkowym. \n",
      "Powstaje elipsa. Jej osie są wyznaczane przez wektory własne macierzy cov. \n",
      "Punkty wewnątrz elipsy są generowane częściej niż te poza nią. \n"
     ]
    },
    {
     "data": {
      "image/png": "[encoded data removed]",
      "text/plain": [
       "<matplotlib.figure.Figure at 0x8bc6630>"
      ]
     },
     "metadata": {},
     "output_type": "display_data"
    }
   ],
   "source": [
    "import numpy as np\n",
    "\n",
    "mean = np.random.random(size=2)+[10,10]\n",
    "#mean = [0,0]\n",
    "matrix = np.random.rand(2,2)\n",
    "cov = np.dot(matrix, matrix.transpose())\n",
    "#cov=[[1.26239636 , 0.57115305],[ 0.57115305 , 0.30591908]]\n",
    "print 'srednia ', mean\n",
    "print 'cov ', cov\n",
    "\n",
    "samples = np.random.multivariate_normal(mean, cov, size=1000)\n",
    "\n",
    "import matplotlib.pylab as plt\n",
    "%matplotlib inline\n",
    "_=plt.scatter(samples[:,0], samples[:,1], color='g', alpha=0.1)\n",
    "eigenvalues, eigenvectors = np.linalg.eig(cov)\n",
    "#numpy dziwnie to ustawia. Poprawiam żeby była zgodność z Mathematicą.\n",
    "eigenvectors = -1.0 * eigenvectors.transpose()\n",
    "plt.grid(True)\n",
    "print 'wartosci wlasne ', eigenvalues\n",
    "print 'wektory wlasne ', eigenvectors\n",
    "_=plt.plot( [mean[0], mean[0] + eigenvectors[0,0] * eigenvalues[0] ],[mean[1], mean[1]+eigenvectors[0,1]*eigenvalues[0]])\n",
    "_=plt.plot( [mean[0], mean[0] + eigenvectors[1,0] * eigenvalues[1] ],[mean[1], mean[1]+eigenvectors[1,1]*eigenvalues[1]])\n",
    "\n",
    "#Na rysunku wektory wydają się nie być prostopadłe. Ale są, bo iloczyn daje zero.\n",
    "print eigenvectors[0,0] * eigenvectors[1,0] + eigenvectors[0,1] * eigenvectors[1,1]\n",
    "plt.xlim([mean[0]-2,mean[0]+2])\n",
    "plt.ylim([mean[1]-2,mean[1]+2])\n",
    "ax = plt.gca()\n",
    "ax.set_aspect('equal')\n",
    "# wynik: spodziewamy się elipsy o środku w średniej rozkładu,\n",
    "# tam też powinna być największa gęstość samplowanych punktów;\n",
    "# wektory własne powinny wskazywać kierunki osi elipsy;\n",
    "# jaki jest związek wartości własnych z długościami osi elipsy?\n",
    "\n",
    "print \"Macierz cov zadaje transformacje na okręgu jednostkowym. \"\n",
    "print \"Powstaje elipsa. Jej osie są wyznaczane przez wektory własne macierzy cov. \"\n",
    "print \"Punkty wewnątrz elipsy są generowane częściej niż te poza nią. \"\n",
    "plt.show()"
   ]
  },
  {
   "cell_type": "markdown",
   "metadata": {},
   "source": [
    "## Ćwiczenie 9 (4 pkt)\n",
    "\n",
    "Załóżmy, że mamy dane pochodzące dwuwymiarowego rozkładu normalnego o macierzy kowariancji będącej identycznością i średniej $\\mu$. Będziemy estymowali $\\mu$ korzystając z wzoru Bayesa.\n",
    "\n",
    "1. Stworzyć siatkę 100x100 na kwadracie $[0,1]^2$ - to będą nasze potencjalne średnie.\n",
    "2. Wylosować jeden punkt z siatki - to będzie \"prawdziwa\" średnia rozkładu. Oczywiście model jej nie zna.\n",
    "3. Przyjąć jednostajny rozkład a priori (użyć floatów z największą możliwą precyzją), trzymać go w tablicy knowledge.\n",
    "4. Powtórzyć nb_iters razy:\n",
    "    - wygenerować nb_samples sampli z prawdziwego rozkładu,\n",
    "    - uaktualnić knowledge na podstawie obserwacji,\n",
    "    - narysować knowledge jako dwuwymiarowy heatmap.\n",
    "\n",
    "Sprawdzić, co się stanie, gdy:\n",
    "1. Siatka punktów będzie rzadsza, a prawdziwa średnia rozkładu będzie poza siatką.\n",
    "2. Średnia rozkładu znajdzie się całkowicie poza badanym kwadratem, np. w punkcie $(1.2, 0.7)$.\n",
    "3. Na początku wylosujemy 2 punkty z siatki - $\\mu_1$ i $\\mu_2$ - a następnie obserwacje będziemy samplować naprzemian z dwóch rozkładów gaussa, przy czym cały czas estymujemy $\\mu$ tak, jak gdyby istniało dokładnie jedno prawdziwe."
   ]
  },
  {
   "cell_type": "code",
   "execution_count": null,
   "metadata": {
    "collapsed": true
   },
   "outputs": [],
   "source": []
  },
  {
   "cell_type": "markdown",
   "metadata": {},
   "source": [
    "## Ćwiczenie 10 (4 pkt)\n",
    "(proszę najpierw przeczytać uwagę dodaną na czerwono w sekcji \"Podejście maximum likelihood\")\n",
    "\n",
    "Zdarzenie oznaczone $B_1$: Rzucamy dziesięć razy monetą i otrzymujemy wyniki ORZEŁ, ORZEŁ, RESZKA, RESZKA, ORZEŁ, RESZKA, ORZEŁ, ORZEŁ, ORZEŁ, ORZEŁ.\n",
    "\n",
    "Zdarzenie oznaczone $B_2$: Poprosiliśmy kolegę, żeby w naszym imieniu rzucił 10 razy monetą i zanotował wyniki. Kolega - w dobrej wierze - zliczał tylko liczbę orłów, wypadło ich 7.\n",
    "\n",
    "Udowodnić (matematycznie), że dla dowolnego rozkładu a priori parametru $\\theta$ zachodzi równość rozkładów a posteriori:\n",
    "$$P(\\theta\\mid B_1) = P(\\theta\\mid B_2)$$\n",
    "Innymi słowy, kolejność wyników rzutu monetą faktycznie nie niesie za sobą żadnej informacji, która jest przydatna przy estymowaniu parametru $\\theta$."
   ]
  },
  {
   "cell_type": "markdown",
   "metadata": {},
   "source": []
  }
 ],
 "metadata": {
  "kernelspec": {
   "display_name": "Python 2",
   "language": "python",
   "name": "python2"
  },
  "language_info": {
   "codemirror_mode": {
    "name": "ipython",
    "version": 2
   },
   "file_extension": ".py",
   "mimetype": "text/x-python",
   "name": "python",
   "nbconvert_exporter": "python",
   "pygments_lexer": "ipython2",
   "version": "2.7.13"
  },
  "toc": {
   "toc_cell": false,
   "toc_number_sections": true,
   "toc_threshold": 6,
   "toc_window_display": false
  }
 },
 "nbformat": 4,
 "nbformat_minor": 2
}
