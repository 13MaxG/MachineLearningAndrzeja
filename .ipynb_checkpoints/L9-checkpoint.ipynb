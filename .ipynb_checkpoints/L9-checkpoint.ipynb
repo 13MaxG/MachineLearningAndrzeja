{
 "cells": [
  {
   "cell_type": "markdown",
   "metadata": {},
   "source": [
    "# Wstęp do sieci neuronowych\n",
    "\n",
    "\n",
    "<img src=\"figures/L9/cat_neuron.jpg\" width=500>\n",
    "\n",
    "Ref: \n",
    "\n",
    "* http://cs231n.github.io/optimization-1/ \n",
    "\n",
    "* https://github.com/leriomaggio/deep-learning-keras-tensorflow/blob/master/1.3%20Introduction%20-%20Keras.ipynb\n",
    "\n",
    "* http://colah.github.io/posts/2014-10-Visualizing-MNIST/\n",
    "\n",
    "* https://github.com/peterroelants/peterroelants.github.io/blob/master/notebooks/neural_net_implementation/neural_network_implementation_part02.ipynb\n",
    "\n",
    "\n",
    "Na dzisiejszych zajęciach omówimy jak można zaimplementować jako sieć neuronową znany nam model regresji logistycznej, najpierw bardziej ręcznie, a następnie z użyciem pakietu keras. Omówimy na końcu spojrzenie na sieci neuronowe z perspektywy uczenia reprezentacji."
   ]
  },
  {
   "cell_type": "markdown",
   "metadata": {},
   "source": [
    "# Setup"
   ]
  },
  {
   "cell_type": "code",
   "execution_count": 1,
   "metadata": {
    "collapsed": false
   },
   "outputs": [
    {
     "name": "stderr",
     "output_type": "stream",
     "text": [
      "Using Theano backend.\n",
      "E:\\w\\Programy\\Conda\\envs\\python2\\lib\\site-packages\\sklearn\\cross_validation.py:44: DeprecationWarning: This module was deprecated in version 0.18 in favor of the model_selection module into which all the refactored classes and functions are moved. Also note that the interface of the new CV iterators are different from that of this module. This module will be removed in 0.20.\n",
      "  \"This module will be removed in 0.20.\", DeprecationWarning)\n"
     ]
    }
   ],
   "source": [
    "import numpy as np\n",
    "import matplotlib.pyplot as plt\n",
    "from itertools import product\n",
    "from sklearn.decomposition import RandomizedPCA\n",
    "from sklearn.datasets import fetch_mldata\n",
    "from sklearn.utils import shuffle\n",
    "import matplotlib.pyplot as plt \n",
    "from matplotlib.colors import colorConverter, ListedColormap\n",
    "from matplotlib import cm #\n",
    "import os\n",
    "import tqdm\n",
    "os.environ['KERAS_BACKEND'] = 'theano'\n",
    "import keras\n",
    "from keras.datasets import mnist\n",
    "from sklearn.datasets import load_iris\n",
    "from sklearn.cross_validation import train_test_split\n",
    "from keras.models import Sequential\n",
    "from keras.layers import Dense, Activation\n",
    "from keras.optimizers import SGD\n",
    "%matplotlib inline\n",
    "np.random.seed(seed=1)"
   ]
  },
  {
   "cell_type": "code",
   "execution_count": 2,
   "metadata": {
    "collapsed": false
   },
   "outputs": [
    {
     "name": "stdout",
     "output_type": "stream",
     "text": [
      "(500L, 784L)\n",
      "(500L, 784L)\n"
     ]
    }
   ],
   "source": [
    "# Small MNIST \n",
    "(mnist_x_train, mnist_y_train), (mnist_x_test, mnist_y_test) = mnist.load_data()\n",
    "sm_train = mnist_x_train[0:500].astype('float32') / 255.\n",
    "sm_y_train = mnist_y_train[0:500]\n",
    "sm_test = mnist_x_test[0:500].astype('float32') / 255.\n",
    "sm_y_test = mnist_y_test[0:500]\n",
    "sm_train = sm_train.reshape((len(sm_train), np.prod(sm_train.shape[1:])))\n",
    "sm_test = sm_test.reshape((len(sm_test), np.prod(sm_test.shape[1:])))\n",
    "print sm_train.shape\n",
    "print sm_test.shape"
   ]
  },
  {
   "cell_type": "code",
   "execution_count": 3,
   "metadata": {
    "collapsed": true
   },
   "outputs": [],
   "source": [
    "if not keras.__version__[0] == '2':\n",
    "    raise Exception(\"Prosze zainstalowac keras>=2.0.0\")"
   ]
  },
  {
   "cell_type": "code",
   "execution_count": 4,
   "metadata": {
    "collapsed": true
   },
   "outputs": [],
   "source": [
    "def logistic(z): \n",
    "    return 1 / (1 + np.exp(-z))\n",
    "\n",
    "def nn(x, w): \n",
    "    return logistic(x.dot(w.T))\n",
    "\n",
    "def nn_predict(x,w): \n",
    "    return np.around(nn(x,w))\n",
    "\n",
    "def cost(y, t):\n",
    "    return - np.sum(np.multiply(t, np.log(y)) + np.multiply((1-t), np.log(1-y)))"
   ]
  },
  {
   "cell_type": "code",
   "execution_count": 5,
   "metadata": {
    "collapsed": false
   },
   "outputs": [
    {
     "data": {
      "text/plain": [
       "1.4576750694186373"
      ]
     },
     "execution_count": 5,
     "metadata": {},
     "output_type": "execute_result"
    }
   ],
   "source": [
    "\n",
    "cost(np.asmatrix([0.1, 0.5]),np.asmatrix([0.3,0.5]))"
   ]
  },
  {
   "cell_type": "code",
   "execution_count": 6,
   "metadata": {
    "collapsed": false
   },
   "outputs": [],
   "source": [
    "\n",
    "# Define and generate the samples\n",
    "nb_of_samples_per_class = 100  # The number of sample in each class\n",
    "red_mean = [-1,0]  # The mean of the red class\n",
    "blue_mean = [1,0]  # The mean of the blue class\n",
    "std_dev = 1.2  # standard deviation of both classes\n",
    "# Generate samples from both classes\n",
    "x_red = np.random.randn(nb_of_samples_per_class, 2) * std_dev + red_mean\n",
    "x_blue = np.random.randn(nb_of_samples_per_class, 2) * std_dev + blue_mean\n",
    "\n",
    "# Merge samples in set of input variables x, and corresponding set of output variables t\n",
    "X_toy = np.vstack((x_red, x_blue))\n",
    "t_toy = np.vstack((np.zeros((nb_of_samples_per_class,1)), np.ones((nb_of_samples_per_class,1))))\n",
    "toy_train, toy_test, toy_y_train, toy_y_test = train_test_split(X_toy, t_toy, test_size=0.15)\n",
    "# Przyda sie do sekcji o kerasie\n",
    "toy_y_train_one_hot = keras.utils.to_categorical(toy_y_train)\n",
    "toy_y_test_one_hot = keras.utils.to_categorical(toy_y_test)"
   ]
  },
  {
   "cell_type": "code",
   "execution_count": null,
   "metadata": {
    "collapsed": false
   },
   "outputs": [],
   "source": []
  },
  {
   "cell_type": "code",
   "execution_count": 7,
   "metadata": {
    "collapsed": false
   },
   "outputs": [
    {
     "data": {
      "image/png": "[encoded data removed]",
      "text/plain": [
       "<matplotlib.figure.Figure at 0xc7f2d30>"
      ]
     },
     "metadata": {},
     "output_type": "display_data"
    }
   ],
   "source": [
    "\n",
    "# Plot both classes on the x1, x2 plane\n",
    "plt.plot(x_red[:,0], x_red[:,1], 'ro', label='class red')\n",
    "plt.plot(x_blue[:,0], x_blue[:,1], 'bo', label='class blue')\n",
    "plt.grid()\n",
    "plt.legend(loc=2)\n",
    "plt.xlabel('$x_1$', fontsize=15)\n",
    "plt.ylabel('$x_2$', fontsize=15)\n",
    "plt.axis([-4, 4, -4, 4])\n",
    "plt.title('red vs. blue classes in the input space')\n",
    "plt.show()"
   ]
  },
  {
   "cell_type": "markdown",
   "metadata": {},
   "source": [
    "# Siec Neuronowa, a regresja logistyczna\n",
    "\n",
    "Przypomnijmy sobie co robi regresja logistyczna. Z L7:\n",
    "\n",
    "Przekształcając $$ \\log(o) = \\sum \\theta_i x_i $$ otrzymujemy *bezpośrednio*, że $$ p(y | x) = \\mbox{sigmoid}(\\sum \\theta_i x_i) $$, gdzie $sigmoid(a) = \\frac{1}{1 + \\exp(-a)}$.\n",
    "\n",
    "Można ostatni wzór zapisać w postaci \"sieci neuronowej\":\n",
    "\n",
    "<center><img width=500 src=\"figures/L9/logreg.png\"></center>\n",
    "\n",
    "To co pozostaje to jak wyznaczyć wagi przez optymalizacją. Przypomnijmy, że szukamy parametrów optymalizujących log-likelihood $$ LL(\\hat y, y) = CE(\\hat y, y) = \\sum_{i=1}^{N} y \\log\\hat(y) $$. W regresji liniowej było prosto!\n",
    "\n",
    "[Opisać/wyjaśnic cross entropy]"
   ]
  },
  {
   "cell_type": "markdown",
   "metadata": {},
   "source": [
    "## Czego szuka regresja logistyczna\n",
    "\n",
    "Regresja logistyczna dostaje kare za najdrobniejsza pomyłkę. Jeśli dla kasy 1 mówi z pewnością 99%, to dalej będzie niezerowy koszt:\n",
    "    \n",
    "<img width=500 src=\"figures/L9/logreg_vs_svm.png\">"
   ]
  },
  {
   "cell_type": "markdown",
   "metadata": {},
   "source": [
    "## Optymalizacja\n",
    "\n",
    "Jak dotad nie rozpatrywaliśmy optymalizacji. Regresja liniowa ma rozwiązanie \"zamknięte\", ale nie wiemy jak optymalizować błąd regresji logistycznej!"
   ]
  },
  {
   "cell_type": "markdown",
   "metadata": {},
   "source": [
    "$$ \\theta^* = argmax_{\\theta} L(p( \\hat y | x, \\theta), y) = CE(p(\\hat y | x, \\theta), y) = \\sum_{i=1}^{N} y \\log\\hat(y) $$.\n",
    "\n",
    "Dla klas binarnych:\n",
    "\n",
    "$$ \\sum_{i=1}^N y_i \\log \\hat y_i - (1 - y_i) \\log (1 - \\hat y_i ) $$\n",
    "\n",
    "Jak znaleźć $\\theta^*$? Użyjemy metody gradientowej:\n",
    "\n",
    "$$ \\theta^{t+1} = \\theta^{t} - \\alpha \\frac{\\partial L}{\\partial \\theta} $$"
   ]
  },
  {
   "cell_type": "markdown",
   "metadata": {},
   "source": [
    "### Funkcja kosztu nie jest już taka prosta!"
   ]
  },
  {
   "cell_type": "code",
   "execution_count": 8,
   "metadata": {
    "collapsed": false
   },
   "outputs": [
    {
     "data": {
      "image/png": "[encoded data removed]",
      "text/plain": [
       "<matplotlib.figure.Figure at 0xcac38d0>"
      ]
     },
     "metadata": {},
     "output_type": "display_data"
    }
   ],
   "source": [
    "# Plot the cost in function of the weights\n",
    "# Define a vector of weights for which we want to plot the cost\n",
    "nb_of_ws = 100 # compute the cost nb_of_ws times in each dimension\n",
    "ws1 = np.linspace(-4, 4, num=nb_of_ws) # weight 1\n",
    "ws2 = np.linspace(-4, 4, num=nb_of_ws) # weight 2\n",
    "ws_x, ws_y = np.meshgrid(ws1, ws2) # generate grid\n",
    "cost_ws = np.zeros((nb_of_ws, nb_of_ws)) # initialize cost matrix\n",
    "\n",
    "# Fill the cost matrix for each combination of weights\n",
    "for i in range(nb_of_ws):\n",
    "    for j in range(nb_of_ws):\n",
    "        cost_ws[i,j] = cost(nn(toy_train, np.asmatrix([ws_x[i,j], ws_y[i,j]])) , toy_y_train)\n",
    "        \n",
    "# Plot the cost function surface\n",
    "plt.contourf(ws_x, ws_y, cost_ws, 20, cmap=cm.pink)\n",
    "cbar = plt.colorbar()\n",
    "cbar.ax.set_ylabel('$\\\\xi$', fontsize=15)\n",
    "plt.xlabel('$w_1$', fontsize=15)\n",
    "plt.ylabel('$w_2$', fontsize=15)\n",
    "plt.title('Cost function surface')\n",
    "plt.grid()\n",
    "plt.show()"
   ]
  },
  {
   "cell_type": "markdown",
   "metadata": {},
   "source": [
    "### Implementacja SGD\n",
    "\n",
    "[Wyprowadzić na tablicy wzór na dLL/dtheta_i, jak to sie ma do backprop]\n",
    "\n",
    "Jak właśnie pokazaliśmy $$ \\frac{\\partial L}{\\partial \\theta_i} = x_j (\\hat y_i - t_i) $$\n",
    "\n",
    "[Interpretacja geometryczna gradientu regresji logistycznej]"
   ]
  },
  {
   "cell_type": "markdown",
   "metadata": {},
   "source": [
    "### Zadanie 1, Nauka regresji logistycznej przez SGD [2pkt]\n",
    "\n",
    "1. Zaimplementuj SGD dla zbioru danych toy. \n",
    "2. Wygeneruj wizualizacje procesu uczenia (ostatnia komórka)\n",
    "3. Narysuj wizualizacje dla learning_rate=0.05, 0.1 i 0.01\n",
    "4. Dla jakiego learning_rate osiągamy najlepszą dokladnosc na (toy_test, toy_y_test)?\n",
    "\n",
    "Co powinno wyjść dla odpowiednio 0.01 oraz 0.1:\n",
    "\n",
    "<img width=200 src=\"figures/L9/lr0.01.png\">\n",
    "\n",
    "<img width=200 src=\"figures/L9/lr0.1.png\">"
   ]
  },
  {
   "cell_type": "code",
   "execution_count": 9,
   "metadata": {
    "collapsed": false
   },
   "outputs": [],
   "source": [
    "\n",
    "def do_it(rate):\n",
    "    def delta_w(w_k, x, t, learning_rate):\n",
    "        pred = x.dot(w_k.T)\n",
    "        tmp = 1-t - logistic( -1.0 * pred)\n",
    "        logi = np.concatenate((tmp, tmp), axis=1)\n",
    "        return  learning_rate*np.multiply(x, logi).sum(axis=0)\n",
    "\n",
    "    # Parametry uczenia \n",
    "    w = np.asmatrix([-4, -2])\n",
    "    learning_rate = rate\n",
    "    # Uczenie\n",
    "    nb_of_iterations = 10 \n",
    "    w_iter = [w] \n",
    "    for i in range(nb_of_iterations):\n",
    "        dw = delta_w(w, toy_train, toy_y_train, learning_rate) \n",
    "        w = w - dw \n",
    "        w_iter.append(w) \n",
    "    # Plot the first weight updates on the error surface\n",
    "    # Plot the error surface\n",
    "    plt.contourf(ws_x, ws_y, cost_ws, 20, alpha=0.9, cmap=cm.pink)\n",
    "    cbar = plt.colorbar()\n",
    "    cbar.ax.set_ylabel('cost')\n",
    "\n",
    "    # Plot the updates\n",
    "    for i in range(1, 4): \n",
    "        w1 = w_iter[i-1]\n",
    "        w2 = w_iter[i]\n",
    "        # Plot the weight-cost value and the line that represents the update\n",
    "        plt.plot(w1[0,0], w1[0,1], 'bo')  # Plot the weight cost value\n",
    "        plt.plot([w1[0,0], w2[0,0]], [w1[0,1], w2[0,1]], 'b-')\n",
    "        plt.text(w1[0,0]-0.2, w1[0,1]+0.4, '$w({})$'.format(i), color='b')\n",
    "    w1 = w_iter[3]  \n",
    "    # Plot the last weight\n",
    "    plt.plot(w1[0,0], w1[0,1], 'bo')\n",
    "    plt.text(w1[0,0]-0.2, w1[0,1]+0.4, '$w({})$'.format(4), color='b') \n",
    "    # Show figure\n",
    "    plt.xlabel('$w_1$', fontsize=15)\n",
    "    plt.ylabel('$w_2$', fontsize=15)\n",
    "    plt.title('Gradient descent updates on cost surface')\n",
    "    plt.grid()\n",
    "    plt.show()"
   ]
  },
  {
   "cell_type": "code",
   "execution_count": 10,
   "metadata": {
    "collapsed": false
   },
   "outputs": [
    {
     "data": {
      "image/png": "[encoded data removed]",
      "text/plain": [
       "<matplotlib.figure.Figure at 0xcb5c898>"
      ]
     },
     "metadata": {},
     "output_type": "display_data"
    }
   ],
   "source": [
    "do_it(0.01)"
   ]
  },
  {
   "cell_type": "code",
   "execution_count": 11,
   "metadata": {
    "collapsed": false
   },
   "outputs": [
    {
     "data": {
      "image/png": "[encoded data removed]",
      "text/plain": [
       "<matplotlib.figure.Figure at 0xe5a6e10>"
      ]
     },
     "metadata": {},
     "output_type": "display_data"
    }
   ],
   "source": [
    "do_it(0.05)"
   ]
  },
  {
   "cell_type": "code",
   "execution_count": 12,
   "metadata": {
    "collapsed": false
   },
   "outputs": [
    {
     "data": {
      "image/png": "[encoded data removed]",
      "text/plain": [
       "<matplotlib.figure.Figure at 0xc99bef0>"
      ]
     },
     "metadata": {},
     "output_type": "display_data"
    }
   ],
   "source": [
    "do_it(0.1)"
   ]
  },
  {
   "cell_type": "markdown",
   "metadata": {},
   "source": [
    "# keras\n",
    "\n",
    "Sieci neuronowe definiujemy prawie tak prosto jak funkcje w Pythonie, a pochodne (to co liczyłem na tablicy) powinien nam liczyć komputer!"
   ]
  },
  {
   "cell_type": "code",
   "execution_count": 13,
   "metadata": {
    "collapsed": false
   },
   "outputs": [
    {
     "name": "stdout",
     "output_type": "stream",
     "text": [
      "(2L, 'dims')\n",
      "(2L, 'classes')\n"
     ]
    }
   ],
   "source": [
    "dims = toy_train.shape[1]\n",
    "print(dims, 'dims')\n",
    "nb_classes = toy_y_train_one_hot.shape[1]\n",
    "print(nb_classes, 'classes')"
   ]
  },
  {
   "cell_type": "code",
   "execution_count": 14,
   "metadata": {
    "collapsed": false
   },
   "outputs": [
    {
     "name": "stdout",
     "output_type": "stream",
     "text": [
      "Epoch 1/10\n",
      "170/170 [==============================] - ETA: 0s - loss: 1.6056\b\b\b\b\b\b\b\b\b\b\b\b\b\b\b\b\b\b\b\b\b\b\b\b\b\b\b\b\b\b\b\b\b\b\b\b\b\b\b\b\b\b\b\b\b\b\b\b\b\b\b\b\b\b\b\b\b\b\b\b\b\b\b\b\b - 0s - loss: 1.3518     \n",
      "Epoch 2/10\n",
      "170/170 [==============================] - ETA: 0s - loss: 0.8506\b\b\b\b\b\b\b\b\b\b\b\b\b\b\b\b\b\b\b\b\b\b\b\b\b\b\b\b\b\b\b\b\b\b\b\b\b\b\b\b\b\b\b\b\b\b\b\b\b\b\b\b\b\b\b\b\b\b\b\b\b\b\b\b\b - 0s - loss: 0.7743     \n",
      "Epoch 3/10\n",
      "170/170 [==============================] - ETA: 0s - loss: 0.5843\b\b\b\b\b\b\b\b\b\b\b\b\b\b\b\b\b\b\b\b\b\b\b\b\b\b\b\b\b\b\b\b\b\b\b\b\b\b\b\b\b\b\b\b\b\b\b\b\b\b\b\b\b\b\b\b\b\b\b\b\b\b\b\b\b - 0s - loss: 0.5730     \n",
      "Epoch 4/10\n",
      "170/170 [==============================] - ETA: 0s - loss: 0.5587\b\b\b\b\b\b\b\b\b\b\b\b\b\b\b\b\b\b\b\b\b\b\b\b\b\b\b\b\b\b\b\b\b\b\b\b\b\b\b\b\b\b\b\b\b\b\b\b\b\b\b\b\b\b\b\b\b\b\b\b\b\b\b\b\b - 0s - loss: 0.5098     \n",
      "Epoch 5/10\n",
      "170/170 [==============================] - ETA: 0s - loss: 0.4115\b\b\b\b\b\b\b\b\b\b\b\b\b\b\b\b\b\b\b\b\b\b\b\b\b\b\b\b\b\b\b\b\b\b\b\b\b\b\b\b\b\b\b\b\b\b\b\b\b\b\b\b\b\b\b\b\b\b\b\b\b\b\b\b\b - 0s - loss: 0.4820     \n",
      "Epoch 6/10\n",
      "170/170 [==============================] - ETA: 0s - loss: 0.5041\b\b\b\b\b\b\b\b\b\b\b\b\b\b\b\b\b\b\b\b\b\b\b\b\b\b\b\b\b\b\b\b\b\b\b\b\b\b\b\b\b\b\b\b\b\b\b\b\b\b\b\b\b\b\b\b\b\b\b\b\b\b\b\b\b - 0s - loss: 0.4678     \n",
      "Epoch 7/10\n",
      "170/170 [==============================] - ETA: 0s - loss: 0.4902\b\b\b\b\b\b\b\b\b\b\b\b\b\b\b\b\b\b\b\b\b\b\b\b\b\b\b\b\b\b\b\b\b\b\b\b\b\b\b\b\b\b\b\b\b\b\b\b\b\b\b\b\b\b\b\b\b\b\b\b\b\b\b\b\b - 0s - loss: 0.4590     \n",
      "Epoch 8/10\n",
      "170/170 [==============================] - ETA: 0s - loss: 0.5163\b\b\b\b\b\b\b\b\b\b\b\b\b\b\b\b\b\b\b\b\b\b\b\b\b\b\b\b\b\b\b\b\b\b\b\b\b\b\b\b\b\b\b\b\b\b\b\b\b\b\b\b\b\b\b\b\b\b\b\b\b\b\b\b\b - 0s - loss: 0.4540     \n",
      "Epoch 9/10\n",
      "170/170 [==============================] - ETA: 0s - loss: 0.3517\b\b\b\b\b\b\b\b\b\b\b\b\b\b\b\b\b\b\b\b\b\b\b\b\b\b\b\b\b\b\b\b\b\b\b\b\b\b\b\b\b\b\b\b\b\b\b\b\b\b\b\b\b\b\b\b\b\b\b\b\b\b\b\b\b - 0s - loss: 0.4503     \n",
      "Epoch 10/10\n",
      "170/170 [==============================] - ETA: 0s - loss: 0.6205\b\b\b\b\b\b\b\b\b\b\b\b\b\b\b\b\b\b\b\b\b\b\b\b\b\b\b\b\b\b\b\b\b\b\b\b\b\b\b\b\b\b\b\b\b\b\b\b\b\b\b\b\b\b\b\b\b\b\b\b\b\b\b\b\b - 0s - loss: 0.4479     \n",
      "[[-0.22871032  1.04271412]\n",
      " [ 0.43493831  0.57190788]]\n",
      "0.788235294118\n",
      "0.666666666667\n"
     ]
    }
   ],
   "source": [
    "# 1. Definicja modelu\n",
    "model = Sequential()\n",
    "model.add(Dense(nb_classes, input_shape=(dims,)))\n",
    "model.add(Activation('softmax'))\n",
    "\n",
    "# 2. Kompilacja\n",
    "model.compile(optimizer=SGD(lr=0.1), loss='categorical_crossentropy')\n",
    "\n",
    "# 3. Uczenie\n",
    "model.fit(toy_train, toy_y_train_one_hot, epochs=10)\n",
    "\n",
    "# 4. Predykcja\n",
    "toy_y_pred = model.predict(toy_test).argmax(axis=1)\n",
    "toy_y_train_pred = model.predict(toy_train).argmax(axis=1)\n",
    "print model.layers[0].trainable_weights[0].get_value()\n",
    "print np.mean(toy_y_train.reshape(-1,) == toy_y_train_pred)\n",
    "print np.mean(toy_y_test.reshape(-1,) == toy_y_pred)"
   ]
  },
  {
   "cell_type": "markdown",
   "metadata": {},
   "source": [
    "## Zadanie 2, Proste modyfikacje [2pkt]\n",
    "\n",
    "\n",
    "\n",
    "    (1pkt) Zmodyfikuj powyższą sieć tak aby osiągnęła min. 95% na zmniejszonym do 30 przykładów zbiorze trenującym w rozważanym datasecie. Odpowiedz na pytania:\n",
    "        Czy ten model osiąga lepszy wynik na zbiorze testowym niż regresja logistyczna?\n",
    "        Czy można osiągnąć lepszy wynik na tym zbiorze danych, nawet jeśli posiadalibyśmy nieskończoną próbkę danych?\n",
    "    (1pkt) Naucz 2 warstwową sieć na smallMNIST. Czy dla jakiegoś rozmiaru ukrytej warstwy osiąga lepszy wynik niż regresja logistyczna\n"
   ]
  },
  {
   "cell_type": "code",
   "execution_count": 30,
   "metadata": {
    "collapsed": false
   },
   "outputs": [
    {
     "name": "stdout",
     "output_type": "stream",
     "text": [
      "0.966666666667\n",
      "0.666666666667\n"
     ]
    }
   ],
   "source": [
    "from keras.optimizers import Adadelta \n",
    "\n",
    "model = Sequential()\n",
    "\n",
    "model.add(Dense(1024, input_dim=2, activation='tanh'))\n",
    "model.add(Dense(2, activation='relu'))\n",
    "model.compile(optimizer='adadelta', loss='mean_squared_error')\n",
    "model.fit(toy_train[:30], toy_y_train_one_hot[:30], epochs=12345,verbose=0)\n",
    "\n",
    "toy_y_pred = model.predict(toy_test).argmax(axis=1)\n",
    "toy_y_train_pred = model.predict(toy_train[:30]).argmax(axis=1)\n",
    "print np.mean(toy_y_train[:30].reshape(-1,) == toy_y_train_pred[:30])\n",
    "print np.mean(toy_y_test.reshape(-1,) == toy_y_pred)"
   ]
  },
  {
   "cell_type": "markdown",
   "metadata": {},
   "source": [
    "# Inne sieci neuronowe\n",
    "\n",
    "Najprostsze co możemy zrobić to dodać warstwy. Po co omówimy w następnym rozdziale.\n",
    "\n",
    "<img width=600 src=\"figures/L9/zoo.jpg\">"
   ]
  },
  {
   "cell_type": "markdown",
   "metadata": {},
   "source": [
    "# Znaczenie reprezentacji, kNN"
   ]
  },
  {
   "cell_type": "markdown",
   "metadata": {},
   "source": [
    "Najproszym argumentem po co te sieci jest możliwość uczenia się lepszych reprezentacji niż pixele, czy ręczne cechy w zbiorze danych breast cancer. Omówimy to na przykładzie zbiorów danych: iris i MNIST oraz klasyczngo modelu kNN."
   ]
  },
  {
   "cell_type": "markdown",
   "metadata": {},
   "source": [
    "Uruchomimy najpierw model kNN na danych iris\n",
    "\n",
    "<img width=600 src=\"https://sebastianraschka.com/images/blog/2015/principal_component_analysis_files/iris.png\">"
   ]
  },
  {
   "cell_type": "code",
   "execution_count": 43,
   "metadata": {
    "collapsed": false
   },
   "outputs": [
    {
     "data": {
      "text/plain": [
       "<matplotlib.text.Text at 0x14008c18>"
      ]
     },
     "execution_count": 43,
     "metadata": {},
     "output_type": "execute_result"
    },
    {
     "data": {
      "image/png": "[encoded data removed]",
      "text/plain": [
       "<matplotlib.figure.Figure at 0xf1278d0>"
      ]
     },
     "metadata": {},
     "output_type": "display_data"
    }
   ],
   "source": [
    "plt.scatter(iris.data[iris['target']==0, 0], iris.data[iris['target']==0, 1], color='r')\n",
    "plt.scatter(iris.data[iris['target']==1, 0], iris.data[iris['target']==1, 1], color='g')\n",
    "plt.scatter(iris.data[iris['target']==2, 0], iris.data[iris['target']==2, 1], color='b')\n",
    "plt.xlabel(iris['feature_names'][0])\n",
    "plt.ylabel(iris['feature_names'][1])"
   ]
  },
  {
   "cell_type": "code",
   "execution_count": 44,
   "metadata": {
    "collapsed": true
   },
   "outputs": [],
   "source": [
    "def knn_pred(x, x_train, y_train):\n",
    "    current_best = -1, 100000\n",
    "    for id in range(len(x_train)):\n",
    "        dist = np.linalg.norm(x - x_train[id])\n",
    "        if dist < current_best[1]:\n",
    "            current_best = (id, dist)\n",
    "    return y_train[current_best[0]]"
   ]
  },
  {
   "cell_type": "markdown",
   "metadata": {},
   "source": [
    "## kNN na Iris"
   ]
  },
  {
   "cell_type": "code",
   "execution_count": 48,
   "metadata": {
    "collapsed": false
   },
   "outputs": [],
   "source": [
    "iris = load_iris()\n",
    "X_train, X_test, y_train, y_test = train_test_split(iris['data'], iris['target'], test_size=0.15)"
   ]
  },
  {
   "cell_type": "code",
   "execution_count": 49,
   "metadata": {
    "collapsed": false
   },
   "outputs": [
    {
     "name": "stderr",
     "output_type": "stream",
     "text": [
      "  0%|                                       | 0/23 [00:00<?, ?it/s]\n"
     ]
    },
    {
     "ename": "TypeError",
     "evalue": "knn_pred() takes exactly 3 arguments (2 given)",
     "output_type": "error",
     "traceback": [
      "\u001b[0;31m--------------------------------------------------------------------\u001b[0m",
      "\u001b[0;31mTypeError\u001b[0m                          Traceback (most recent call last)",
      "\u001b[0;32m<ipython-input-49-18b14e082c37>\u001b[0m in \u001b[0;36m<module>\u001b[0;34m()\u001b[0m\n\u001b[1;32m      1\u001b[0m \u001b[0mY_test_pred\u001b[0m \u001b[1;33m=\u001b[0m \u001b[1;33m[\u001b[0m\u001b[1;33m]\u001b[0m\u001b[1;33m\u001b[0m\u001b[0m\n\u001b[1;32m      2\u001b[0m \u001b[1;32mfor\u001b[0m \u001b[0mx\u001b[0m \u001b[1;32min\u001b[0m \u001b[0mtqdm\u001b[0m\u001b[1;33m.\u001b[0m\u001b[0mtqdm\u001b[0m\u001b[1;33m(\u001b[0m\u001b[0mX_test\u001b[0m\u001b[1;33m,\u001b[0m \u001b[0mtotal\u001b[0m\u001b[1;33m=\u001b[0m\u001b[0mlen\u001b[0m\u001b[1;33m(\u001b[0m\u001b[0mX_test\u001b[0m\u001b[1;33m)\u001b[0m\u001b[1;33m)\u001b[0m\u001b[1;33m:\u001b[0m\u001b[1;33m\u001b[0m\u001b[0m\n\u001b[0;32m----> 3\u001b[0;31m     \u001b[0mY_test_pred\u001b[0m\u001b[1;33m.\u001b[0m\u001b[0mappend\u001b[0m\u001b[1;33m(\u001b[0m\u001b[0mknn_pred\u001b[0m\u001b[1;33m(\u001b[0m\u001b[0mx\u001b[0m\u001b[1;33m,\u001b[0m \u001b[0mx_train\u001b[0m\u001b[1;33m=\u001b[0m\u001b[0mX_train\u001b[0m\u001b[1;33m)\u001b[0m\u001b[1;33m)\u001b[0m\u001b[1;33m\u001b[0m\u001b[0m\n\u001b[0m\u001b[1;32m      4\u001b[0m \u001b[1;32mprint\u001b[0m \u001b[0mstr\u001b[0m\u001b[1;33m(\u001b[0m\u001b[0mint\u001b[0m\u001b[1;33m(\u001b[0m\u001b[1;36m100\u001b[0m\u001b[1;33m*\u001b[0m\u001b[0mnp\u001b[0m\u001b[1;33m.\u001b[0m\u001b[0mmean\u001b[0m\u001b[1;33m(\u001b[0m\u001b[0mnp\u001b[0m\u001b[1;33m.\u001b[0m\u001b[0marray\u001b[0m\u001b[1;33m(\u001b[0m\u001b[0mY_test_pred\u001b[0m\u001b[1;33m)\u001b[0m \u001b[1;33m==\u001b[0m \u001b[0my_test\u001b[0m\u001b[1;33m)\u001b[0m\u001b[1;33m)\u001b[0m\u001b[1;33m)\u001b[0m\u001b[1;33m,\u001b[0m\u001b[1;34m\"%\"\u001b[0m\u001b[1;33m\u001b[0m\u001b[0m\n",
      "\u001b[0;31mTypeError\u001b[0m: knn_pred() takes exactly 3 arguments (2 given)"
     ]
    }
   ],
   "source": [
    "Y_test_pred = []\n",
    "for x in tqdm.tqdm(X_test, total=len(X_test)):\n",
    "    Y_test_pred.append(knn_pred(x, x_train=X_train))\n",
    "print str(int(100*np.mean(np.array(Y_test_pred) == y_test))),\"%\""
   ]
  },
  {
   "cell_type": "markdown",
   "metadata": {},
   "source": [
    "## small MNIST\n",
    "\n",
    "Na Iris nasz prosty model osiąga 91%. Co sie dzieje na small MNIST?"
   ]
  },
  {
   "cell_type": "code",
   "execution_count": null,
   "metadata": {
    "collapsed": false
   },
   "outputs": [],
   "source": [
    "Y_test_pred = []\n",
    "for x in tqdm.tqdm(sm_test, total=len(sm_test)):\n",
    "    Y_test_pred.append(knn_pred(x, x_train=sm_train, y_train=sm_y_train))\n",
    "print str(int(100*np.mean(np.array(Y_test_pred) == sm_y_test))),\"%\""
   ]
  },
  {
   "cell_type": "markdown",
   "metadata": {},
   "source": [
    "## Co sie stalo"
   ]
  },
  {
   "cell_type": "code",
   "execution_count": null,
   "metadata": {
    "collapsed": false
   },
   "outputs": [],
   "source": [
    "id_test = 15\n",
    "plt.figure(figsize=(5, 5))\n",
    "plt.suptitle(\"Pytanie\")\n",
    "plt.imshow(x_test[id_test].reshape(28, 28), cmap=plt.cm.gray)"
   ]
  },
  {
   "cell_type": "code",
   "execution_count": null,
   "metadata": {
    "collapsed": false
   },
   "outputs": [],
   "source": [
    "all_dists = [np.linalg.norm(x_test[id_test].reshape(-1,) - x) for x in sm_train]\n",
    "all_dists = np.argsort(all_dists)\n",
    "\n",
    "f, ax = plt.subplots(1, 3, figsize=(30, 10))\n",
    "\n",
    "for id, i in enumerate(all_dists[0:3]):\n",
    "    ax[id].imshow(sm_train[all_dists[id]].reshape(28, 28), cmap=plt.cm.gray)"
   ]
  },
  {
   "cell_type": "markdown",
   "metadata": {},
   "source": [
    "## Nauka reprezentacji\n",
    "\n",
    "Ref: http://colah.github.io/posts/2014-10-Visualizing-MNIST/\n",
    "\n",
    "Czlowiek uczy się reprezentacji - widzimy na poziomie krawędzi i kształtów, a nie pixeli!\n",
    "\n",
    "<img width=500 src=\"figures/L9/cat_experiment_no_reference.png\">\n",
    "\n",
    "Zastanówmy się wspólnie jaka reprezentacja byłaby fajna? Główna idea Representation Learning, może będzie o tym więcej wkrótce:\n",
    "\n",
    "<img width=600 src=\"figures/L9/autoencoder_schema.jpg\">\n",
    "\n",
    "### PCA\n",
    "\n",
    "Na obecną chwilę użyjemy PCA, o którym prawdopodobnie będzie dużo więcej w przyszłości. \n",
    "\n",
    "<img src=\"figures/L9/pca.png\">\n",
    "\n",
    "(ilustracja pochodzi z tutorialu na temat PCA oraz ICA w sklearn, http://scikit-learn.org/stable/auto_examples/decomposition/plot_ica_vs_pca.html#sphx-glr-auto-examples-decomposition-plot-ica-vs-pca-py)"
   ]
  },
  {
   "cell_type": "code",
   "execution_count": null,
   "metadata": {
    "collapsed": false
   },
   "outputs": [],
   "source": [
    "pca = RandomizedPCA(n_components=8, iterated_power=15, whiten=True)\n",
    "fig, plot = plt.subplots()\n",
    "fig.set_size_inches(8, 8)\n",
    "plt.prism()\n",
    "\n",
    "X_transformed = pca.fit_transform(mnist_x_train.reshape(mnist_x_train.shape[0], -1))\n",
    "plot.scatter(X_transformed[:, 0], X_transformed[:, 1], c=mnist_y_train)\n",
    "plot.set_xticks(())\n",
    "plot.set_yticks(())"
   ]
  },
  {
   "cell_type": "code",
   "execution_count": null,
   "metadata": {
    "collapsed": false
   },
   "outputs": [],
   "source": [
    "plt.figure(figsize=(20, 8 * 20))\n",
    "plt.imshow(pca.components_.reshape((8 * 28, 28)).T, cmap=\"gray\")"
   ]
  },
  {
   "cell_type": "markdown",
   "metadata": {},
   "source": [
    "W przypadku twarzy PCA znajdzie bardzo ciekawy zestaw \"cech\", czy \"wektorów bazowych\":\n",
    "\n",
    "<img width=400 src=\"figures/L9/eigenfaces.png\">"
   ]
  },
  {
   "cell_type": "markdown",
   "metadata": {},
   "source": [
    "## Zadanie 3, czy cechy pomagają w kNN [1pkt]\n",
    "\n",
    "1. Naucz PCA jedynie na cyfrach 5 i załącz analogiczny plot jak powyżej\n",
    "\n",
    "2. Użyj nauczonych cech (na całym zbiorze mnist) przez PCA do klasyfikacji kNN na zbiorze small MNIST. Jaki można osiągnąć wynik? Użyj KNeighborsClassifier z pakietu sklearn. Dopasuj parametry PCA oraz tak KNeighborsClassifier aby osiągnąć najlepszy wynik na zbiorze sm_test, wymagany jest wynik powyżej 80% na zbiorze testowym."
   ]
  }
 ],
 "metadata": {
  "kernelspec": {
   "display_name": "Python 2",
   "language": "python",
   "name": "python2"
  },
  "language_info": {
   "codemirror_mode": {
    "name": "ipython",
    "version": 2
   },
   "file_extension": ".py",
   "mimetype": "text/x-python",
   "name": "python",
   "nbconvert_exporter": "python",
   "pygments_lexer": "ipython2",
   "version": "2.7.13"
  },
  "toc": {
   "toc_cell": false,
   "toc_number_sections": true,
   "toc_threshold": 6,
   "toc_window_display": false
  }
 },
 "nbformat": 4,
 "nbformat_minor": 0
}
