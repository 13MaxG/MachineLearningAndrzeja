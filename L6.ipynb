{
 "cells": [
  {
   "cell_type": "markdown",
   "metadata": {},
   "source": [
    "# L6\n",
    "\n",
    "Na tych ćwiczeniach omówimy:\n",
    "* model evaluation,\n",
    "* model selection,\n",
    "* data augmentation.\n"
   ]
  },
  {
   "cell_type": "markdown",
   "metadata": {},
   "source": [
    "## Cross validation - przypomnienie\n",
    "\n",
    "Najprostszym sposobem na ocenę skuteczności modelu jest podzielenie danych w losowy sposób na zbiory trenujący i testowy, wytrenowanie modelu na zbiorze trenującym i przetestowanie na zbiorze testowym. Cross validation stosujemy w celu zmniejszenia wariancji estymatora losowego podziału.\n",
    "\n",
    "### Zasada działania\n",
    "\n",
    "Robimy jeden duży podział - dzielimy cały zbiór na $k$ rozłącznych podzbiorów i potem $k$ razy zbiór trenujący składamy z $k-1$ kawałków, a ostatniego używamy jako zbiór testowy. Dzięki temu każdy element $D$ będzie dokładnie raz w zbiorze testowym.\n",
    "\n",
    "<img src=\"figures/L3/K-fold_cross_validation_EN.jpg\">\n",
    "\n",
    "### Leave one out\n",
    "\n",
    "Szczególnym przypadkiem jest podejście leave one out, gdzie zbiór testowy jest zawsze jednoelementowy ($k$ jest równe liczbie przykładów)."
   ]
  },
  {
   "cell_type": "markdown",
   "metadata": {},
   "source": [
    "## Model evaluation\n",
    "\n",
    "Model evaluation to cała rodzina algorytmów estymowania skuteczności nauczonego modelu. Oczywiście interesuje nas to, jak model poradzi sobie na danych, które będą pojawiały się \"w prawdziwym świecie\", a więc na danych pochodzących z tego samego źródła, co zbiór treningowy, lecz niekoniecznie identycznych (dane takie same, a nie te same).\n",
    "\n",
    "### Dane i.i.d.\n",
    "\n",
    "W najprostszym przypadku zakładamy, że dane pochodzą z tego samego rozkładu, więc możemy np.:\n",
    "* podzielić dane losowo na zbiór trenujący i testowy,\n",
    "* wykonać powyższe wielokrotnie i uśrednić wynik,\n",
    "* użyć cross validation,\n",
    "* użyć leave one out.\n",
    "\n",
    "Za każdym razem model jest uczony od nowa na zbiorze treningowym, a testowany tylko na danych ze zbioru testowego.\n",
    "\n",
    "W wypadku problemów klasyfikacji podział train/test możemy wykonać w sposób \"stratified\" - jeśli np. zbiór testowy stanowi 30% wszystkich danych, to dodatkowo wymuszamy, aby 30% danych z **każdej klasy** znalazło się w zbiorze testowym. Jest to szczególnie ważne w wypadku, gdy niektóre klasy są mało liczebne w naszych danych - w ten sposób zapobiegamy sytuacji, w której cała klasa zostanie pominięta w zbiorze treningowym lub testowym.\n",
    "\n",
    "### Dane nie i.i.d.\n",
    "\n",
    "Oczywiście w praktyce nie zawsze można sensownie uargumentować i.i.d. Przykładem niech będzie zbiór MNIST - każdy człowiek ma nieco inny charakter pisma, a zadanie polega na nauczeniu modelu, który dobrze radzi sobie na danych pochodzących od nowych ludzi. Dlatego też twórca MNISTa dostarcza podział train/test, który wykonany jest względem ludzi (w zbiorze treningowym znajdują się cyfry napisane przez ok. 250 osób, łącznie 60 tys. przykładów, w zbiorze testowym znajduje się 10 tys. przykładów pochodzących od innych osób). Dzięki temu sprawdzamy, czy model faktycznie generalizuje na nowy charakter pisma, a nie tylko zapamiętuje poszczególne osoby i ich styl.\n",
    "\n",
    "W tym notebooku będziemy dla prostoty używali wszystkich danych łącznie, ale należy pamiętać, co w ten sposób tak naprawdę sprawdzamy.\n",
    "\n",
    "### Szeregi czasowe\n",
    "\n",
    "Bardzo często dane pochodzą z szeregu czasowego, tzn. wiersze są postaci ($\\mathbf{x}$, $y$, timestamp). Jeśli zadanie polega na generalizacji w czasie - czyli oczekujemy, że nasz model będzie działał dobrze w przyszłości - to przy ewaluacji musimy wykonać podział train/test ze względu na czas (train to wszystkie dane przed pewną ustaloną datą, test to dane późniejsze). Temat szeregów czasowych wykracza poza ramy tego notebooka. "
   ]
  },
  {
   "cell_type": "markdown",
   "metadata": {},
   "source": [
    "## Model selection\n",
    "\n",
    "Modele opisane są dwoma zestawami liczb: parametrami i hiperparametrami.\n",
    "\n",
    "### Parametry\n",
    "\n",
    "Parametry to zmienne, które wyznaczane są algorytmicznie podczas uczenia modelu (jawnym wzorem, metodami iteracyjnymi itp.). Przykładem są wagi w regresji liniowej, wagi w sieciach neuronowych, support vectors w SVMach, progi w drzewach decyzyjnych.\n",
    "\n",
    "### Hiperparametry\n",
    "\n",
    "W odróżnieniu od parametrów, hiperparametry muszą być dobrane ręcznie przed rozpoczęciem uczenia. Hiperparametry kontrolują działanie modelu, pozwalają manipulować overfittingiem itp. Przykłady: stała C w regresji liniowej, architektura sieci neuronowej (liczba i rozmiar warstw, funkcje aktywacji), wymiar podprzestrzeni w PCA, liczba drzew w Random Forest.\n",
    "\n",
    "### Motywacja\n",
    "\n",
    "W założeniu hiperparametry pozwalają włączyć człowieka w proces uczenia modelu - człowiek potrafi dobrać hiperparametry, ponieważ posiada intuicję dotyczącą prawdziwego świata i, w przeciwieństwie do maszyny, rozumie dany task znacznie głębiej oraz potrafi poprawnie zinterpretować działanie hiperparametrów. Natomiast znalezieniem parametrów, co jest zadaniem żmudnym, ale dobrze zdefiniowanym, może zająć się komputer.\n",
    "\n",
    "Oczywiście to wszystko nieprawda - człowiek wcale nie ma lepszej intuicji, a zezwolenie na ręczny dobór hiperparametrów prowadzi do różnych patologii (np. testujemy dziesiątki tysięcy zestawów hiperparametów i publikujemy najlepszy wynik - zamiast dostać lepszy model zoverfitowaliśmy się do danych).\n",
    "\n",
    "Dlatego przyjmijmy na tę chwilę inną definicję - hiperparametry (tym razem z definicji!) różnią się od parametrów tym, że nie da się ich zoptymalizować gradientowo lub jawnym wzorem. Model selection to po prostu algorytm doboru hiperparametrów.\n",
    "\n",
    "### Przykład\n",
    "\n",
    "Załóżmy, że mamy zbiór (X_train, y_train) oraz klasę Model, która przyjmuje w konstruktorze zestaw hiperparametrów. Możemy zrobić następująco:\n",
    "* stworzyć listę zestawów hiperparametrów i dla każdego stworzyć obiekt model = Model(zestaw_hiperparametrów),\n",
    "* ocenić wszystkie modele na danych (X_train, y_train),\n",
    "* wybrać ten zestaw hiperparametrów, dla którego model uzyskał najlepszy wynik.\n",
    "\n",
    "### Jak stworzyć listę zestawów hiperparametrów\n",
    "\n",
    "Zamieniliśmy problem ręcznego doboru hiperparametrów na ręczne tworzenie listy zestawów hiperparametrów - czy w takim razie wciąż nie oszukujemy? Trochę tak, ale na szczęście trochę mniej.\n",
    "\n",
    "Jak w praktyce tworzy się listę zestawów hiperparametrów:\n",
    "1. Grid search - dla każdego hiperparametru arbitralnie tworzymy listę jego możliwych wartości, a następnie sprawdzamy wszystkie możliwe zestawy (problem: dla 10 hiperparametrów i 10 możliwości każdego z nich musimy wytrenować $10^{10}$ modelów).\n",
    "2. Random grid search - robimy jak powyżej, ale losujemy $n$ zestawów ($n$ dobieramy ręcznie, np. 43) zamiast sprawdzać wszystkie.\n",
    "3. Random search - dla danego hiperparametru nie definiujemy listy jego możliwych wartości, ale rozkład, z którego będziemy go losowali (np. losujemy $\\alpha$ z rozkładu jednostajnego na odcinku $[-5,5]$, a potem definiujemy hiperparametr regresji liniowej $C=10^{\\alpha}$); następnie zestaw hiperparametrów tworzymy losując każdy niezależnie z podanego rozkładu.\n",
    "\n",
    "Podejście trzecie jest zdecydowanie najlepsze, co obrazuje poniższa ilustracja [proszę spróbować wytłumaczyć].\n",
    "\n",
    "<img width=600 src=\"figures/L6/scikitlearn8.jpeg\">\n",
    "\n",
    "### * Optymalizacja bayesowska\n",
    "\n",
    "Można robić jeszcze lepiej, niż random search. Rozkłady podane w random search traktujemy jako naszą wiedzę a priori o położeniu najlepszego zestawu hiperparametrów, a następnie po każdym losowaniu ewaluujemy model i uzyskany wynik włączamy do naszej wiedzy. Szczegóły są nieco skomplikowane (musimy założyć trochę dodatkowych własności o tym, jak wynik modelu zależy od położenia w przestrzeni hiperparametrów), natomiast zainteresowane osoby mogą spróbować zapoznać się np. z następującymi implementacjami:\n",
    "* http://hyperopt.github.io/hyperopt/\n",
    "* https://github.com/msmbuilder/osprey"
   ]
  },
  {
   "cell_type": "markdown",
   "metadata": {},
   "source": [
    "## Podsumowanie\n",
    "\n",
    "Zakładamy, że Model to klasa, a model to instancja. Model przyjmuje w konstruktorze wszystkie hiperparametry. Dane to (X,y). Model selection i model evaluation wykonujemy przy pomocy 3-fold cross validation. Ustalamy też listę zestawów hiperparametrów.\n",
    "\n",
    "### Ważna i subtelna uwaga\n",
    "\n",
    "Techniki model evaluation możemy stosować tylko do konkretnych algorytmów. Dlatego nie możemy zewaluować regresji liniowiej, tylko np. regresję liniową ze stałą C=3. Nie możemy ewaluować klasy Model, tylko obiekt model.\n",
    "\n",
    "Ale gdy zdecydujemy się na pewien algorytm doboru hiperparametrów, to możemy zapisać:\n",
    "\n",
    "(Model + model_selection) = metamodel\n",
    "\n",
    "gdzie metamodel da się fitować (parametry **oraz hiperparametry** zostaną dobrane automatycznie tylko na podstawie danych). W tym sensie możemy ewaluować klasę Model.\n",
    "\n",
    "Warto też zwrócić uwagę, że dla różnych model_selection dostaniemy różne metamodele. Np. jeśli raz za model_selection użyjemy strategii cross validation z 3 foldami, a za drugim razem np. leave one out, to te dwa metamodele będą miały różną zasadę działania i przez to inny score (nawet jeśli w obu przypadkach Model to np. regresja liniowa).\n",
    "\n",
    "### Algorytmy\n",
    "\n",
    "Aby zewaluować Model (metamodel):\n",
    "1. Dzielimy trzy razy (X,y) na (X_train,y_train), (X_test,y_test).\n",
    "2. Dla każdego takiego podziału:\n",
    "    1. Dzielimy trzy razy (X_train,y_train) na (X_train2,y_train2), (X_valid,y_valid).\n",
    "    2. Dla każdego zestawu hiperparametrów:\n",
    "        1. Dla każdego podziału (X_train2,y_train2), (X_valid,y_valid):\n",
    "            1. Tworzymy model = Model(zestaw_hiperparametrów).\n",
    "            2. Uczymy model na (X_train2,y_train2), testujemy na (X_valid,y_valid) i otrzymujemy score.\n",
    "            3. (zestaw_hiperparametrów, score) zapisujemy w tabelce.\n",
    "    3. Dla każdego zestawu hiperparametrów mamy trzy różne score z trzech podziałów - uśredniamy je.\n",
    "    4. Wybieramy średnio najlepszy zestaw hiperparametrów.\n",
    "    5. Tworzymy model = Model(średnio_najlepszy_zestaw_hiperparametrów) i uczymy na całym (X_train,y_train).\n",
    "    6. Testujemy model na (X_test,y_test) i otrzymujemy evaluation_score, zapisujemy go.\n",
    "3. Uśredniamy trzy evaluation_score, zwracamy średnią jako ostateczny score Modelu.\n",
    "\n",
    "Uwaga - dla różnych (X_train,y_train) mamy różne ostatecznie wybrane średnio_najlepszy_zestaw_hiperparametrów, tak właśnie ma być [proszę się zastanowić, dlaczego].\n",
    "\n",
    "Aby wytrenować metamodel:\n",
    "1. Dzielimy trzy razy (X,y) na (X_train,y_train), (X_valid,y_valid).\n",
    "2. Dla każdego zestawu hiperparametrów:\n",
    "    1. Dla każdego podziału (X_train,y_train), (X_valid,y_valid):\n",
    "        1. Tworzymy model = Model(zestaw_hiperparametrów).\n",
    "        2. Uczymy model na (X_train,y_train), testujemy na (X_valid,y_valid) i otrzymujemy score.\n",
    "        3. (zestaw_hiperparametrów, score) zapisujemy w tabelce.\n",
    "3. Dla każdego zestawu hiperparametrów mamy trzy różne score z trzech podziałów - uśredniamy je.\n",
    "4. Wybieramy średnio najlepszy zestaw hiperparametrów.\n",
    "5. Tworzymy model = Model(średnio_najlepszy_zestaw_hiperparametrów) i uczymy na całym (X,y).\n",
    "\n",
    "Uwaga - teraz mamy tylko jeden średnio_najlepszy_zestaw_hiperparametrów i jeden model.\n",
    "\n",
    "W ten sposób otrzymujemy:\n",
    "1. model - ten model (wytrenowany metamodel) idzie do produkcji.\n",
    "2. score - estymacja skuteczności klasy Model jest dość dobrą estymacją tego, jak model poradzi sobie w przyszłości.\n",
    "3. średnio_najlepszy_zestaw_hiperparametrów - informacyjnie możemy też podać znaleziony najlepszy zestaw hiperparametrów, jednakże w tym momencie nie różni się on koncepcyjnie od wytrenowanego zestawu **parametrów**; nie możemy twierdzić, że te hiperparametry będą zawsze najlepsze, ponieważ ucząc się na innych danych możemy dostać inne wartości średnio najlepszych hiperparametrów."
   ]
  },
  {
   "cell_type": "code",
   "execution_count": 188,
   "metadata": {
    "collapsed": false
   },
   "outputs": [],
   "source": [
    "import matplotlib.pylab as plt\n",
    "%matplotlib inline\n",
    "import numpy as np\n",
    "from numpy.random import RandomState\n",
    "from itertools import product\n",
    "\n",
    "# dane\n",
    "from sklearn.datasets import fetch_mldata\n",
    "# splity\n",
    "from sklearn.model_selection import train_test_split\n",
    "from sklearn.model_selection import StratifiedKFold\n",
    "# modele\n",
    "from sklearn.neighbors import KNeighborsClassifier\n",
    "from sklearn.ensemble import RandomForestClassifier\n",
    "from sklearn.svm import LinearSVC, SVC\n",
    "# metryki\n",
    "from sklearn.metrics import accuracy_score\n",
    "\n",
    "mnist = fetch_mldata('MNIST original')\n",
    "X = mnist[\"data\"]\n",
    "y = mnist[\"target\"]\n",
    "\n",
    "# zawsze przed uczeniem/splitami proszę zrobić shuffle na danych!"
   ]
  },
  {
   "cell_type": "markdown",
   "metadata": {},
   "source": [
    "Czego będziemy używać:\n",
    "* http://scikit-learn.org/stable/modules/generated/sklearn.model_selection.StratifiedKFold.html\n",
    "* http://scikit-learn.org/stable/modules/generated/sklearn.svm.LinearSVC.html\n",
    "* http://scikit-learn.org/stable/modules/generated/sklearn.svm.SVC.html\n",
    "* http://scikit-learn.org/stable/modules/generated/sklearn.ensemble.RandomForestClassifier.html\n",
    "* http://scikit-learn.org/stable/modules/generated/sklearn.neighbors.KNeighborsClassifier.html\n",
    "* http://yann.lecun.com/exdb/mnist/"
   ]
  },
  {
   "cell_type": "markdown",
   "metadata": {},
   "source": [
    "Uwaga - modele będą się uczyły dłużej, niż zwykle. Warto dodać w kodzie dużo printów, żeby na bieżąco wiedzieć, co się dzieje.\n",
    "\n",
    "Na etapie pisania i testowania kodu można też zmniejszyć sobie losowo MNISTa np. do 5% przykładów, aby testy przebiegały szybciej."
   ]
  },
  {
   "cell_type": "markdown",
   "metadata": {},
   "source": [
    "## Ćwiczenie 1 [2 pkt]\n",
    "\n",
    "Napisać trzy generatory zestawów hiperparametrów:\n",
    "* generator grid search [robimy wspólnie za 0 pkt],\n",
    "* generator k elementów random grid search,\n",
    "* generator k elementów random search.\n",
    "\n",
    "Hiperparametry podajemy jako słownik {nazwa_hiperparametru: lista_wartości/rozkład}.\n",
    "\n",
    "Generator ma yieldować słowniki {nazwa_hiperparametru: wartość_hiperparametru}\n",
    "\n",
    "Rozkłady prawdopodobieństwa możecie Państwo podawać w dowolny sposób - np. jako pythonową funkcję, jako string z nazwą (a możliwe rozkłady zakodować na sztywno w funkcji zwracającej generatory) itp. Proponuję zastosować konwencję opisaną w następnej komórce [czy ktoś z Państwa ma inny pomysł, jak podawać rozkłady?].\n",
    "\n",
    "Losowe generatory mają przyjmować random_state i działać deterministycznie przy ustalonym random_state (należy ustawić w środku seed generatora liczb losowych na random_state).\n"
   ]
  },
  {
   "cell_type": "code",
   "execution_count": 104,
   "metadata": {
    "collapsed": true
   },
   "outputs": [],
   "source": [
    "# Tworzymy fabryki samplerów, każda fabryka parametryzuje pewną rodzinę rozkładów prawdopodobieństwa\n",
    "# sampler pamięta jeden konkretny rozkład prawdopodobieństwa\n",
    "# jedynym argumentem samplera jest obiekt numpy.random.RandomState, który oznaczamy rng\n",
    "# sampler zwraca jedną wartość ze swojego rozkładu\n",
    "# ponieważ rng pamięta swój stan, to możemy np. raz stworzyć go na początku i podawać w pętli\n",
    "\n",
    "# rodzina rozkładów jednostajnych na podanych listach elementów\n",
    "# sampler losuje z rozkładu jednostajnego na liście l\n",
    "def uniform_from_list(l):\n",
    "    def sampler(rng):\n",
    "        return l[rng.randint(0,len(l))]\n",
    "    return sampler\n",
    "\n",
    "# rodzina rozkładów jednostajnych na przedziałach liczb całkowitych\n",
    "# sampler losuje z rozkładu jednostajnego na podzbiorze liczb całkowitych od low (włącznie) do high (wyłącznie)\n",
    "def uniform_int_on_interval(low, high):\n",
    "    def sampler(rng):\n",
    "        return rng.randint(low,high)\n",
    "    return sampler\n",
    "\n",
    "# rodzina rozkładów jednostajnych na przedziałach\n",
    "# sampler losuje z rozkładu jednostajnego na przedziale [low, high]\n",
    "def uniform_on_interval(low, high):\n",
    "    def sampler(rng):\n",
    "        return rng.uniform(low, high)\n",
    "    return sampler\n",
    "\n",
    "# rodzina rozkładów jednostajnych na przedziałach w wykładniku potęgi liczby 10\n",
    "# sampler losuje liczbę alpha z rozkładu jednostajnego na przedziale [low, high], a następnie zwraca 10^alpha\n",
    "def log_uniform_on_interval(low, high):\n",
    "    def sampler(rng):\n",
    "        return 10.**rng.uniform(low, high)\n",
    "    return sampler\n",
    "\n",
    "# rodzina rozkładów gaussa\n",
    "# sampler losuje liczbę z rozkładu N(mean, std^2)\n",
    "def normal(mean, std):\n",
    "    def sampler(rng):\n",
    "        return rng.normal(loc=mean, scale=std)\n",
    "    return sampler\n",
    "\n",
    "# rodzina rozkładów gaussa w wykładniku potęgi liczby 10\n",
    "# sampler losuje liczbę alpha z rozkładu N(mean, std^2), a następnie zwraca 10^alpha\n",
    "def log_normal(mean, std):\n",
    "    def sampler(rng):\n",
    "        return 10**rng.normal(loc=mean, scale=std)\n",
    "    return sampler"
   ]
  },
  {
   "cell_type": "code",
   "execution_count": 105,
   "metadata": {
    "collapsed": false
   },
   "outputs": [
    {
     "name": "stdout",
     "output_type": "stream",
     "text": [
      "Tworzymy obiekt klasy RandomState\n",
      "Losujemy...\n",
      "-0.842587612353 0.000472401243122 0\n",
      "0.153322909413 543.807159801 -2\n",
      "-0.341758747593 1765.13251908 3\n",
      "-0.593715774857 8.32922889041 -1\n",
      "\n",
      "Resetujemy RandomState\n",
      "Losujemy...\n",
      "-0.842587612353 0.000472401243122 0\n",
      "0.153322909413 543.807159801 -2\n",
      "-0.341758747593 1765.13251908 3\n",
      "-0.593715774857 8.32922889041 -1\n",
      "\n",
      "Resetujemy RandomState\n",
      "Losujemy w innej kolejności, wypisujemy w starej...\n",
      "-1.50310753692 5.57429041087 4\n",
      "0.394467225601 0.000472401243122 0\n",
      "0.343807964283 543.807159801 0\n",
      "-0.775106170237 1765.13251908 4\n",
      "\n",
      "samplery współdzielą rng, kolejność losowania ma znaczenie!\n"
     ]
    }
   ],
   "source": [
    "print \"Tworzymy obiekt klasy RandomState\"\n",
    "rng = RandomState(743)\n",
    "s1 = normal(0.,1.)\n",
    "s2 = log_uniform_on_interval(-4.,4.)\n",
    "s3 = uniform_int_on_interval(-2,5)\n",
    "print \"Losujemy...\"\n",
    "for _ in xrange(4):\n",
    "    print s1(rng), s2(rng), s3(rng)\n",
    "\n",
    "print \"\"\n",
    "print \"Resetujemy RandomState\"\n",
    "rng = RandomState(743)\n",
    "s1 = normal(0.,1.)\n",
    "s2 = log_uniform_on_interval(-4.,4.)\n",
    "s3 = uniform_int_on_interval(-2,5)\n",
    "print \"Losujemy...\"\n",
    "for _ in xrange(4):\n",
    "    print s1(rng), s2(rng), s3(rng)\n",
    "\n",
    "print \"\"\n",
    "print \"Resetujemy RandomState\"\n",
    "rng = RandomState(743)\n",
    "s1 = normal(0.,1.)\n",
    "s2 = log_uniform_on_interval(-4.,4.)\n",
    "s3 = uniform_int_on_interval(-2,5)\n",
    "print \"Losujemy w innej kolejności, wypisujemy w starej...\"\n",
    "for _ in xrange(4):\n",
    "    _s3 = s3(rng)\n",
    "    _s2 = s2(rng)\n",
    "    _s1 = s1(rng)\n",
    "    print _s1, _s2, _s3\n",
    "\n",
    "print \"\"\n",
    "print \"samplery współdzielą rng, kolejność losowania ma znaczenie!\""
   ]
  },
  {
   "cell_type": "code",
   "execution_count": 219,
   "metadata": {
    "collapsed": false
   },
   "outputs": [],
   "source": [
    "def grid_search(grid):\n",
    "    (keys, values_grid) = zip(*grid.iteritems())\n",
    "    for values in product(*values_grid):\n",
    "        yield dict(zip(keys, values))\n",
    "\n",
    "def random_search(grid, k=20, random_state=43):\n",
    "    rng = RandomState(random_state) # ustalamy jeden wspólny rng\n",
    "    (keys, samplers) = zip(*sorted(grid.iteritems())) # sortujemy klucze, kolejność samplowania jest ważna!\n",
    "    # wysamplować k zestawów hiperparametrów\n",
    "    # ...\n",
    "    for kk in range(k):\n",
    "        values = [sampler(rng) for sampler in samplers ];\n",
    "        yield dict(zip(keys, values))\n",
    "\n",
    "def random_grid_search(grid, k=20, random_state=43):\n",
    "    rng = RandomState(random_state) # ustalamy jeden wspólny rng\n",
    "    # wysamplować k zestawów hiperparametrów\n",
    "    # ...\n",
    "    #Random grid search - robimy jak powyżej, ale losujemy $n$ zestawów ($n$ dobieramy ręcznie, np. 43) \n",
    "    #zamiast sprawdzać wszystkie.\n",
    "    \n",
    "    # Wydaje się że random_grid_search to jest to samo co random_search zakładając że mamy dane uniform_from_list.\n",
    "    # Można przetasować grid_search i wybrać k pierwszych. Można, co będzie szybsze ze względu na k, odpalić random_search\n",
    "    (keys, samplers) = zip(*sorted(grid.iteritems()))\n",
    "    for kk in range(k):\n",
    "        values = [sampler(rng) for sampler in samplers ];\n",
    "        yield dict(zip(keys, values))\n"
   ]
  },
  {
   "cell_type": "code",
   "execution_count": 107,
   "metadata": {
    "collapsed": false
   },
   "outputs": [
    {
     "name": "stdout",
     "output_type": "stream",
     "text": [
      "{'C': 0.1, 'gamma': 0.0001}\n",
      "{'C': 0.1, 'gamma': 0.0003}\n",
      "{'C': 0.1, 'gamma': 0.001}\n",
      "{'C': 1.0, 'gamma': 0.0001}\n",
      "{'C': 1.0, 'gamma': 0.0003}\n",
      "{'C': 1.0, 'gamma': 0.001}\n",
      "{'C': 10.0, 'gamma': 0.0001}\n",
      "{'C': 10.0, 'gamma': 0.0003}\n",
      "{'C': 10.0, 'gamma': 0.001}\n",
      "{'C': 100.0, 'gamma': 0.0001}\n",
      "{'C': 100.0, 'gamma': 0.0003}\n",
      "{'C': 100.0, 'gamma': 0.001}\n"
     ]
    }
   ],
   "source": [
    "# assert dla grid_search\n",
    "for d in grid_search({'C': [0.1, 1., 10., 100.], 'gamma': [0.0001, 0.0003, 0.001]}):\n",
    "    print d"
   ]
  },
  {
   "cell_type": "markdown",
   "metadata": {},
   "source": [
    "{'C': 0.1, 'gamma': 0.0001}<br/>\n",
    "{'C': 0.1, 'gamma': 0.0003}<br/>\n",
    "{'C': 0.1, 'gamma': 0.001}<br/>\n",
    "{'C': 1.0, 'gamma': 0.0001}<br/>\n",
    "{'C': 1.0, 'gamma': 0.0003}<br/>\n",
    "{'C': 1.0, 'gamma': 0.001}<br/>\n",
    "{'C': 10.0, 'gamma': 0.0001}<br/>\n",
    "{'C': 10.0, 'gamma': 0.0003}<br/>\n",
    "{'C': 10.0, 'gamma': 0.001}<br/>\n",
    "{'C': 100.0, 'gamma': 0.0001}<br/>\n",
    "{'C': 100.0, 'gamma': 0.0003}<br/>\n",
    "{'C': 100.0, 'gamma': 0.001}"
   ]
  },
  {
   "cell_type": "code",
   "execution_count": 108,
   "metadata": {
    "collapsed": false
   },
   "outputs": [
    {
     "name": "stdout",
     "output_type": "stream",
     "text": [
      "{'a': 22, 'c': 4, 'b': 1}\n",
      "{'a': 9, 'c': 13, 'b': 1}\n",
      "{'a': 4, 'c': 13, 'b': 13}\n",
      "{'a': 9, 'c': 13, 'b': 1}\n",
      "{'a': 9, 'c': 13, 'b': 13}\n",
      "{'a': 4, 'c': 9, 'b': 4}\n",
      "{'a': 13, 'c': 13, 'b': 9}\n",
      "{'a': 22, 'c': 1, 'b': 22}\n",
      "{'a': 22, 'c': 22, 'b': 1}\n",
      "{'a': 1, 'c': 22, 'b': 9}\n",
      "{'a': 1, 'c': 9, 'b': 4}\n",
      "{'a': 1, 'c': 22, 'b': 22}\n",
      "{'a': 1, 'c': 4, 'b': 22}\n",
      "{'a': 22, 'c': 1, 'b': 1}\n",
      "{'a': 13, 'c': 4, 'b': 9}\n"
     ]
    }
   ],
   "source": [
    "# assert dla random_grid_search\n",
    "# ma wyjść tak samo, jak random_search, tylko z podanymi samplerami uniform_from_list\n",
    "# proszę sobie sprawdzić we własnym zakresie, my uwierzymy na słowo\n",
    "for d in random_grid_search(\n",
    "        {'a': uniform_from_list([1,4,9,13,22]),\n",
    "         'b': uniform_from_list([1,4,9,13,22]),\n",
    "         'c': uniform_from_list([1,4,9,13,22])},\n",
    "        k=15,\n",
    "        random_state=43):\n",
    "    print d"
   ]
  },
  {
   "cell_type": "code",
   "execution_count": 109,
   "metadata": {
    "collapsed": false
   },
   "outputs": [
    {
     "name": "stdout",
     "output_type": "stream",
     "text": [
      "{'C': 0.00014143134252521947, 'nb_sth': 9, 'gamma': 0.06090665392794814}\n",
      "{'C': 0.0025462216096392796, 'nb_sth': 13, 'gamma': 0.03271390558111398}\n",
      "{'C': 5.590022241698091e-05, 'nb_sth': 1, 'gamma': 0.004505286023886656}\n",
      "{'C': 1.950465371399982e-05, 'nb_sth': 13, 'gamma': 0.0733748296280283}\n",
      "{'C': 0.0002976304542098269, 'nb_sth': 13, 'gamma': 0.0011286104130902254}\n",
      "{'C': 3.705521747936987e-05, 'nb_sth': 22, 'gamma': 0.08666486408992002}\n",
      "{'C': 31.420766577465653, 'nb_sth': 22, 'gamma': 0.05808772319264447}\n",
      "{'C': 5.842880444285076e-05, 'nb_sth': 1, 'gamma': 0.08432246942297046}\n",
      "{'C': 16.058920736060898, 'nb_sth': 22, 'gamma': 0.04037700398666926}\n",
      "{'C': 35065.59811614318, 'nb_sth': 22, 'gamma': 0.04457583608397189}\n",
      "{'C': 6.683446823678905e-05, 'nb_sth': 13, 'gamma': 0.08970985799815344}\n",
      "{'C': 965.8767858660282, 'nb_sth': 1, 'gamma': 0.0332329385020804}\n",
      "{'C': 0.28068153065434537, 'nb_sth': 1, 'gamma': 0.08247676837174123}\n",
      "{'C': 12207.52376193616, 'nb_sth': 13, 'gamma': 0.09101530757801567}\n",
      "{'C': 0.00015294037493259258, 'nb_sth': 9, 'gamma': 0.09375550594407336}\n"
     ]
    }
   ],
   "source": [
    "for d in random_search(\n",
    "        {'C': log_uniform_on_interval(-5., 5.),\n",
    "         'gamma': uniform_on_interval(0.,0.1),\n",
    "         'nb_sth': uniform_from_list([1,4,9,13,22])},\n",
    "        k=15,\n",
    "        random_state=43):\n",
    "    print d"
   ]
  },
  {
   "cell_type": "markdown",
   "metadata": {},
   "source": [
    "{'C': 0.00014143134252521947, 'nb_sth': 9, 'gamma': 0.06090665392794814}<br/>\n",
    "{'C': 0.0025462216096392796, 'nb_sth': 13, 'gamma': 0.03271390558111398}<br/>\n",
    "{'C': 5.590022241698091e-05, 'nb_sth': 1, 'gamma': 0.004505286023886656}<br/>\n",
    "{'C': 1.950465371399982e-05, 'nb_sth': 13, 'gamma': 0.0733748296280283}<br/>\n",
    "{'C': 0.0002976304542098269, 'nb_sth': 13, 'gamma': 0.0011286104130902254}<br/>\n",
    "{'C': 3.705521747936987e-05, 'nb_sth': 22, 'gamma': 0.08666486408992002}<br/>\n",
    "{'C': 31.420766577465653, 'nb_sth': 22, 'gamma': 0.05808772319264447}<br/>\n",
    "{'C': 5.842880444285076e-05, 'nb_sth': 1, 'gamma': 0.08432246942297046}<br/>\n",
    "{'C': 16.058920736060898, 'nb_sth': 22, 'gamma': 0.04037700398666926}<br/>\n",
    "{'C': 35065.59811614318, 'nb_sth': 22, 'gamma': 0.04457583608397189}<br/>\n",
    "{'C': 6.683446823678905e-05, 'nb_sth': 13, 'gamma': 0.08970985799815344}<br/>\n",
    "{'C': 965.8767858660282, 'nb_sth': 1, 'gamma': 0.0332329385020804}<br/>\n",
    "{'C': 0.28068153065434537, 'nb_sth': 1, 'gamma': 0.08247676837174123}<br/>\n",
    "{'C': 12207.52376193616, 'nb_sth': 13, 'gamma': 0.09101530757801567}<br/>\n",
    "{'C': 0.00015294037493259258, 'nb_sth': 9, 'gamma': 0.09375550594407336}"
   ]
  },
  {
   "cell_type": "markdown",
   "metadata": {},
   "source": [
    "## Ćwiczenie 2 [0 pkt]\n",
    "\n",
    "Zaimplementować algorytm model selection z użyciem cross validation (StratifiedKFold w sklearn) zgodnie z opisem w sekcji \"Podsumowanie\"."
   ]
  },
  {
   "cell_type": "code",
   "execution_count": 113,
   "metadata": {
    "collapsed": false
   },
   "outputs": [],
   "source": [
    "def skf_model_selection(Model, hyperparams_generator, X, y, metric, n_splits, random_state):\n",
    "    \"\"\"\n",
    "    Model - klasa modelu\n",
    "    hyperparams_generator - generator hiperparametrów\n",
    "    X,y - dane i etykiety\n",
    "    metric - funkcja o sygnaturze metric(y_true, y_pred), która ocenia skuteczność nauczonego modelu\n",
    "    n_splits - liczba splitów/foldów w cross validation\n",
    "    random_state - używany wszędzie tam, gdzie trzeba\n",
    "    \"\"\"\n",
    "    \n",
    "    scores = []\n",
    "    tested_hyperparams = []\n",
    "    \n",
    "    # Aby wytrenować metamodel:\n",
    "    # 1. Dzielimy n_splits (X,y) na (X_train,y_train), (X_valid,y_valid).\n",
    "        # dla przejrzystości algorytmu zapamiętujemy indeksy podziału w liście indices\n",
    "        # w normalnym kodzie trzeba np. wielokrotnie stworzyć generator skf głębiej w pętli\n",
    "    indices = []\n",
    "    skf = StratifiedKFold(n_splits=n_splits, random_state=random_state, shuffle=True)\n",
    "    for train_index, valid_index in skf.split(X,y):\n",
    "        indices.append((train_index, valid_index))\n",
    "    #print indices\n",
    "    # 2. Dla każdego zestawu hiperparametrów:\n",
    "    for hyperparams in hyperparams_generator:\n",
    "        # 1. Dla każdego podziału (X_train,y_train), (X_valid,y_valid):\n",
    "        scores.append([])\n",
    "        print \"Testujemy hiperparametry:\", hyperparams\n",
    "        for i, (train_index, valid_index) in enumerate(indices):\n",
    "            X_train, y_train = X[train_index], y[train_index]\n",
    "            X_valid, y_valid = X[valid_index], y[valid_index]\n",
    "            # 1. Tworzymy model = Model(zestaw_hiperparametrów).\n",
    "            model = Model(**hyperparams)\n",
    "            # 2. Uczymy model na (X_train,y_train), testujemy na (X_valid,y_valid) i otrzymujemy score.\n",
    "            print \"Uczymy model - split \" + str(i+1) + \"/\" + str(n_splits) + \"...\"\n",
    "            model.fit(X_train, y_train)\n",
    "            print \"Liczymy score...\"\n",
    "            score = metric(y_valid, model.predict(X_valid)) # w zależności od metryki czasem używa się model.predict_proba, tu zakładamy, że metryka jest typu 'accuracy'\n",
    "            print \"Train score:\", metric(y_train, model.predict(X_train))\n",
    "            print \"Valid score:\", score\n",
    "            # 3. (zestaw_hiperparametrów, score) zapisujemy w tabelce.\n",
    "            scores[-1].append(score)\n",
    "        tested_hyperparams.append(hyperparams)\n",
    "    # 3. Dla każdego zestawu hiperparametrów mamy trzy różne score z trzech podziałów - uśredniamy je.\n",
    "    avg_scores = [np.mean(scores_for_single_hyperparams) for scores_for_single_hyperparams in scores]\n",
    "    # 4. Wybieramy średnio najlepszy zestaw hiperparametrów.\n",
    "    best_hyperparams = tested_hyperparams[np.argmax(avg_scores)]\n",
    "    print \"Najlepszy zestaw hiperparametrów:\", best_hyperparams\n",
    "    # 5. Tworzymy model = Model(średnio_najlepszy_zestaw_hiperparametrów) i uczymy na całym (X,y).\n",
    "    best_model = Model(**best_hyperparams)\n",
    "    print \"Uczymy najlepszy model...\"\n",
    "    best_model.fit(X, y)\n",
    "    # Uwaga - teraz mamy tylko jeden średnio_najlepszy_zestaw_hiperparametrów i jeden model.\n",
    "    return best_model, best_hyperparams\n"
   ]
  },
  {
   "cell_type": "code",
   "execution_count": 114,
   "metadata": {
    "collapsed": false
   },
   "outputs": [
    {
     "name": "stdout",
     "output_type": "stream",
     "text": [
      "[(array([   0,    1,    2, ..., 2996, 2998, 2999], dtype=int64), array([   4,    5,    7, ..., 2989, 2992, 2997], dtype=int64)), (array([   4,    5,    7, ..., 2989, 2992, 2997], dtype=int64), array([   0,    1,    2, ..., 2996, 2998, 2999], dtype=int64))]\n",
      "Testujemy hiperparametry: {'n_neighbors': 2, 'leaf_size': 20}\n",
      "Uczymy model - split 1/2...\n",
      "Liczymy score...\n",
      "Train score: 0.954636424283\n",
      "Valid score: 0.893404397069\n",
      "Uczymy model - split 2/2...\n",
      "Liczymy score...\n"
     ]
    },
    {
     "ename": "KeyboardInterrupt",
     "evalue": "",
     "output_type": "error",
     "traceback": [
      "\u001b[0;31m---------------------------------------------------------------------------\u001b[0m",
      "\u001b[0;31mKeyboardInterrupt\u001b[0m                         Traceback (most recent call last)",
      "\u001b[0;32m<ipython-input-114-e4eb547b33ef>\u001b[0m in \u001b[0;36m<module>\u001b[0;34m()\u001b[0m\n\u001b[1;32m     11\u001b[0m     \u001b[0mmetric\u001b[0m\u001b[1;33m=\u001b[0m\u001b[0maccuracy_score\u001b[0m\u001b[1;33m,\u001b[0m\u001b[1;33m\u001b[0m\u001b[0m\n\u001b[1;32m     12\u001b[0m     \u001b[0mn_splits\u001b[0m\u001b[1;33m=\u001b[0m\u001b[1;36m2\u001b[0m\u001b[1;33m,\u001b[0m\u001b[1;33m\u001b[0m\u001b[0m\n\u001b[0;32m---> 13\u001b[0;31m     random_state=43)\n\u001b[0m",
      "\u001b[0;32m<ipython-input-113-33a1028fb4c6>\u001b[0m in \u001b[0;36mskf_model_selection\u001b[0;34m(Model, hyperparams_generator, X, y, metric, n_splits, random_state)\u001b[0m\n\u001b[1;32m     35\u001b[0m             \u001b[0mmodel\u001b[0m\u001b[1;33m.\u001b[0m\u001b[0mfit\u001b[0m\u001b[1;33m(\u001b[0m\u001b[0mX_train\u001b[0m\u001b[1;33m,\u001b[0m \u001b[0my_train\u001b[0m\u001b[1;33m)\u001b[0m\u001b[1;33m\u001b[0m\u001b[0m\n\u001b[1;32m     36\u001b[0m             \u001b[1;32mprint\u001b[0m \u001b[1;34m\"Liczymy score...\"\u001b[0m\u001b[1;33m\u001b[0m\u001b[0m\n\u001b[0;32m---> 37\u001b[0;31m             \u001b[0mscore\u001b[0m \u001b[1;33m=\u001b[0m \u001b[0mmetric\u001b[0m\u001b[1;33m(\u001b[0m\u001b[0my_valid\u001b[0m\u001b[1;33m,\u001b[0m \u001b[0mmodel\u001b[0m\u001b[1;33m.\u001b[0m\u001b[0mpredict\u001b[0m\u001b[1;33m(\u001b[0m\u001b[0mX_valid\u001b[0m\u001b[1;33m)\u001b[0m\u001b[1;33m)\u001b[0m \u001b[1;31m# w zależności od metryki czasem używa się model.predict_proba, tu zakładamy, że metryka jest typu 'accuracy'\u001b[0m\u001b[1;33m\u001b[0m\u001b[0m\n\u001b[0m\u001b[1;32m     38\u001b[0m             \u001b[1;32mprint\u001b[0m \u001b[1;34m\"Train score:\"\u001b[0m\u001b[1;33m,\u001b[0m \u001b[0mmetric\u001b[0m\u001b[1;33m(\u001b[0m\u001b[0my_train\u001b[0m\u001b[1;33m,\u001b[0m \u001b[0mmodel\u001b[0m\u001b[1;33m.\u001b[0m\u001b[0mpredict\u001b[0m\u001b[1;33m(\u001b[0m\u001b[0mX_train\u001b[0m\u001b[1;33m)\u001b[0m\u001b[1;33m)\u001b[0m\u001b[1;33m\u001b[0m\u001b[0m\n\u001b[1;32m     39\u001b[0m             \u001b[1;32mprint\u001b[0m \u001b[1;34m\"Valid score:\"\u001b[0m\u001b[1;33m,\u001b[0m \u001b[0mscore\u001b[0m\u001b[1;33m\u001b[0m\u001b[0m\n",
      "\u001b[0;32mE:\\w\\Programy\\Conda\\envs\\python2\\lib\\site-packages\\sklearn\\neighbors\\classification.pyc\u001b[0m in \u001b[0;36mpredict\u001b[0;34m(self, X)\u001b[0m\n\u001b[1;32m    143\u001b[0m         \u001b[0mX\u001b[0m \u001b[1;33m=\u001b[0m \u001b[0mcheck_array\u001b[0m\u001b[1;33m(\u001b[0m\u001b[0mX\u001b[0m\u001b[1;33m,\u001b[0m \u001b[0maccept_sparse\u001b[0m\u001b[1;33m=\u001b[0m\u001b[1;34m'csr'\u001b[0m\u001b[1;33m)\u001b[0m\u001b[1;33m\u001b[0m\u001b[0m\n\u001b[1;32m    144\u001b[0m \u001b[1;33m\u001b[0m\u001b[0m\n\u001b[0;32m--> 145\u001b[0;31m         \u001b[0mneigh_dist\u001b[0m\u001b[1;33m,\u001b[0m \u001b[0mneigh_ind\u001b[0m \u001b[1;33m=\u001b[0m \u001b[0mself\u001b[0m\u001b[1;33m.\u001b[0m\u001b[0mkneighbors\u001b[0m\u001b[1;33m(\u001b[0m\u001b[0mX\u001b[0m\u001b[1;33m)\u001b[0m\u001b[1;33m\u001b[0m\u001b[0m\n\u001b[0m\u001b[1;32m    146\u001b[0m \u001b[1;33m\u001b[0m\u001b[0m\n\u001b[1;32m    147\u001b[0m         \u001b[0mclasses_\u001b[0m \u001b[1;33m=\u001b[0m \u001b[0mself\u001b[0m\u001b[1;33m.\u001b[0m\u001b[0mclasses_\u001b[0m\u001b[1;33m\u001b[0m\u001b[0m\n",
      "\u001b[0;32mE:\\w\\Programy\\Conda\\envs\\python2\\lib\\site-packages\\sklearn\\neighbors\\base.pyc\u001b[0m in \u001b[0;36mkneighbors\u001b[0;34m(self, X, n_neighbors, return_distance)\u001b[0m\n\u001b[1;32m    379\u001b[0m                 delayed(self._tree.query, check_pickle=False)(\n\u001b[1;32m    380\u001b[0m                     X[s], n_neighbors, return_distance)\n\u001b[0;32m--> 381\u001b[0;31m                 \u001b[1;32mfor\u001b[0m \u001b[0ms\u001b[0m \u001b[1;32min\u001b[0m \u001b[0mgen_even_slices\u001b[0m\u001b[1;33m(\u001b[0m\u001b[0mX\u001b[0m\u001b[1;33m.\u001b[0m\u001b[0mshape\u001b[0m\u001b[1;33m[\u001b[0m\u001b[1;36m0\u001b[0m\u001b[1;33m]\u001b[0m\u001b[1;33m,\u001b[0m \u001b[0mn_jobs\u001b[0m\u001b[1;33m)\u001b[0m\u001b[1;33m\u001b[0m\u001b[0m\n\u001b[0m\u001b[1;32m    382\u001b[0m             )\n\u001b[1;32m    383\u001b[0m             \u001b[1;32mif\u001b[0m \u001b[0mreturn_distance\u001b[0m\u001b[1;33m:\u001b[0m\u001b[1;33m\u001b[0m\u001b[0m\n",
      "\u001b[0;32mE:\\w\\Programy\\Conda\\envs\\python2\\lib\\site-packages\\sklearn\\externals\\joblib\\parallel.pyc\u001b[0m in \u001b[0;36m__call__\u001b[0;34m(self, iterable)\u001b[0m\n\u001b[1;32m    756\u001b[0m             \u001b[1;31m# was dispatched. In particular this covers the edge\u001b[0m\u001b[1;33m\u001b[0m\u001b[1;33m\u001b[0m\u001b[0m\n\u001b[1;32m    757\u001b[0m             \u001b[1;31m# case of Parallel used with an exhausted iterator.\u001b[0m\u001b[1;33m\u001b[0m\u001b[1;33m\u001b[0m\u001b[0m\n\u001b[0;32m--> 758\u001b[0;31m             \u001b[1;32mwhile\u001b[0m \u001b[0mself\u001b[0m\u001b[1;33m.\u001b[0m\u001b[0mdispatch_one_batch\u001b[0m\u001b[1;33m(\u001b[0m\u001b[0miterator\u001b[0m\u001b[1;33m)\u001b[0m\u001b[1;33m:\u001b[0m\u001b[1;33m\u001b[0m\u001b[0m\n\u001b[0m\u001b[1;32m    759\u001b[0m                 \u001b[0mself\u001b[0m\u001b[1;33m.\u001b[0m\u001b[0m_iterating\u001b[0m \u001b[1;33m=\u001b[0m \u001b[0mTrue\u001b[0m\u001b[1;33m\u001b[0m\u001b[0m\n\u001b[1;32m    760\u001b[0m             \u001b[1;32melse\u001b[0m\u001b[1;33m:\u001b[0m\u001b[1;33m\u001b[0m\u001b[0m\n",
      "\u001b[0;32mE:\\w\\Programy\\Conda\\envs\\python2\\lib\\site-packages\\sklearn\\externals\\joblib\\parallel.pyc\u001b[0m in \u001b[0;36mdispatch_one_batch\u001b[0;34m(self, iterator)\u001b[0m\n\u001b[1;32m    606\u001b[0m                 \u001b[1;32mreturn\u001b[0m \u001b[0mFalse\u001b[0m\u001b[1;33m\u001b[0m\u001b[0m\n\u001b[1;32m    607\u001b[0m             \u001b[1;32melse\u001b[0m\u001b[1;33m:\u001b[0m\u001b[1;33m\u001b[0m\u001b[0m\n\u001b[0;32m--> 608\u001b[0;31m                 \u001b[0mself\u001b[0m\u001b[1;33m.\u001b[0m\u001b[0m_dispatch\u001b[0m\u001b[1;33m(\u001b[0m\u001b[0mtasks\u001b[0m\u001b[1;33m)\u001b[0m\u001b[1;33m\u001b[0m\u001b[0m\n\u001b[0m\u001b[1;32m    609\u001b[0m                 \u001b[1;32mreturn\u001b[0m \u001b[0mTrue\u001b[0m\u001b[1;33m\u001b[0m\u001b[0m\n\u001b[1;32m    610\u001b[0m \u001b[1;33m\u001b[0m\u001b[0m\n",
      "\u001b[0;32mE:\\w\\Programy\\Conda\\envs\\python2\\lib\\site-packages\\sklearn\\externals\\joblib\\parallel.pyc\u001b[0m in \u001b[0;36m_dispatch\u001b[0;34m(self, batch)\u001b[0m\n\u001b[1;32m    569\u001b[0m         \u001b[0mdispatch_timestamp\u001b[0m \u001b[1;33m=\u001b[0m \u001b[0mtime\u001b[0m\u001b[1;33m.\u001b[0m\u001b[0mtime\u001b[0m\u001b[1;33m(\u001b[0m\u001b[1;33m)\u001b[0m\u001b[1;33m\u001b[0m\u001b[0m\n\u001b[1;32m    570\u001b[0m         \u001b[0mcb\u001b[0m \u001b[1;33m=\u001b[0m \u001b[0mBatchCompletionCallBack\u001b[0m\u001b[1;33m(\u001b[0m\u001b[0mdispatch_timestamp\u001b[0m\u001b[1;33m,\u001b[0m \u001b[0mlen\u001b[0m\u001b[1;33m(\u001b[0m\u001b[0mbatch\u001b[0m\u001b[1;33m)\u001b[0m\u001b[1;33m,\u001b[0m \u001b[0mself\u001b[0m\u001b[1;33m)\u001b[0m\u001b[1;33m\u001b[0m\u001b[0m\n\u001b[0;32m--> 571\u001b[0;31m         \u001b[0mjob\u001b[0m \u001b[1;33m=\u001b[0m \u001b[0mself\u001b[0m\u001b[1;33m.\u001b[0m\u001b[0m_backend\u001b[0m\u001b[1;33m.\u001b[0m\u001b[0mapply_async\u001b[0m\u001b[1;33m(\u001b[0m\u001b[0mbatch\u001b[0m\u001b[1;33m,\u001b[0m \u001b[0mcallback\u001b[0m\u001b[1;33m=\u001b[0m\u001b[0mcb\u001b[0m\u001b[1;33m)\u001b[0m\u001b[1;33m\u001b[0m\u001b[0m\n\u001b[0m\u001b[1;32m    572\u001b[0m         \u001b[0mself\u001b[0m\u001b[1;33m.\u001b[0m\u001b[0m_jobs\u001b[0m\u001b[1;33m.\u001b[0m\u001b[0mappend\u001b[0m\u001b[1;33m(\u001b[0m\u001b[0mjob\u001b[0m\u001b[1;33m)\u001b[0m\u001b[1;33m\u001b[0m\u001b[0m\n\u001b[1;32m    573\u001b[0m \u001b[1;33m\u001b[0m\u001b[0m\n",
      "\u001b[0;32mE:\\w\\Programy\\Conda\\envs\\python2\\lib\\site-packages\\sklearn\\externals\\joblib\\_parallel_backends.pyc\u001b[0m in \u001b[0;36mapply_async\u001b[0;34m(self, func, callback)\u001b[0m\n\u001b[1;32m    107\u001b[0m     \u001b[1;32mdef\u001b[0m \u001b[0mapply_async\u001b[0m\u001b[1;33m(\u001b[0m\u001b[0mself\u001b[0m\u001b[1;33m,\u001b[0m \u001b[0mfunc\u001b[0m\u001b[1;33m,\u001b[0m \u001b[0mcallback\u001b[0m\u001b[1;33m=\u001b[0m\u001b[0mNone\u001b[0m\u001b[1;33m)\u001b[0m\u001b[1;33m:\u001b[0m\u001b[1;33m\u001b[0m\u001b[0m\n\u001b[1;32m    108\u001b[0m         \u001b[1;34m\"\"\"Schedule a func to be run\"\"\"\u001b[0m\u001b[1;33m\u001b[0m\u001b[0m\n\u001b[0;32m--> 109\u001b[0;31m         \u001b[0mresult\u001b[0m \u001b[1;33m=\u001b[0m \u001b[0mImmediateResult\u001b[0m\u001b[1;33m(\u001b[0m\u001b[0mfunc\u001b[0m\u001b[1;33m)\u001b[0m\u001b[1;33m\u001b[0m\u001b[0m\n\u001b[0m\u001b[1;32m    110\u001b[0m         \u001b[1;32mif\u001b[0m \u001b[0mcallback\u001b[0m\u001b[1;33m:\u001b[0m\u001b[1;33m\u001b[0m\u001b[0m\n\u001b[1;32m    111\u001b[0m             \u001b[0mcallback\u001b[0m\u001b[1;33m(\u001b[0m\u001b[0mresult\u001b[0m\u001b[1;33m)\u001b[0m\u001b[1;33m\u001b[0m\u001b[0m\n",
      "\u001b[0;32mE:\\w\\Programy\\Conda\\envs\\python2\\lib\\site-packages\\sklearn\\externals\\joblib\\_parallel_backends.pyc\u001b[0m in \u001b[0;36m__init__\u001b[0;34m(self, batch)\u001b[0m\n\u001b[1;32m    324\u001b[0m         \u001b[1;31m# Don't delay the application, to avoid keeping the input\u001b[0m\u001b[1;33m\u001b[0m\u001b[1;33m\u001b[0m\u001b[0m\n\u001b[1;32m    325\u001b[0m         \u001b[1;31m# arguments in memory\u001b[0m\u001b[1;33m\u001b[0m\u001b[1;33m\u001b[0m\u001b[0m\n\u001b[0;32m--> 326\u001b[0;31m         \u001b[0mself\u001b[0m\u001b[1;33m.\u001b[0m\u001b[0mresults\u001b[0m \u001b[1;33m=\u001b[0m \u001b[0mbatch\u001b[0m\u001b[1;33m(\u001b[0m\u001b[1;33m)\u001b[0m\u001b[1;33m\u001b[0m\u001b[0m\n\u001b[0m\u001b[1;32m    327\u001b[0m \u001b[1;33m\u001b[0m\u001b[0m\n\u001b[1;32m    328\u001b[0m     \u001b[1;32mdef\u001b[0m \u001b[0mget\u001b[0m\u001b[1;33m(\u001b[0m\u001b[0mself\u001b[0m\u001b[1;33m)\u001b[0m\u001b[1;33m:\u001b[0m\u001b[1;33m\u001b[0m\u001b[0m\n",
      "\u001b[0;32mE:\\w\\Programy\\Conda\\envs\\python2\\lib\\site-packages\\sklearn\\externals\\joblib\\parallel.pyc\u001b[0m in \u001b[0;36m__call__\u001b[0;34m(self)\u001b[0m\n\u001b[1;32m    129\u001b[0m \u001b[1;33m\u001b[0m\u001b[0m\n\u001b[1;32m    130\u001b[0m     \u001b[1;32mdef\u001b[0m \u001b[0m__call__\u001b[0m\u001b[1;33m(\u001b[0m\u001b[0mself\u001b[0m\u001b[1;33m)\u001b[0m\u001b[1;33m:\u001b[0m\u001b[1;33m\u001b[0m\u001b[0m\n\u001b[0;32m--> 131\u001b[0;31m         \u001b[1;32mreturn\u001b[0m \u001b[1;33m[\u001b[0m\u001b[0mfunc\u001b[0m\u001b[1;33m(\u001b[0m\u001b[1;33m*\u001b[0m\u001b[0margs\u001b[0m\u001b[1;33m,\u001b[0m \u001b[1;33m**\u001b[0m\u001b[0mkwargs\u001b[0m\u001b[1;33m)\u001b[0m \u001b[1;32mfor\u001b[0m \u001b[0mfunc\u001b[0m\u001b[1;33m,\u001b[0m \u001b[0margs\u001b[0m\u001b[1;33m,\u001b[0m \u001b[0mkwargs\u001b[0m \u001b[1;32min\u001b[0m \u001b[0mself\u001b[0m\u001b[1;33m.\u001b[0m\u001b[0mitems\u001b[0m\u001b[1;33m]\u001b[0m\u001b[1;33m\u001b[0m\u001b[0m\n\u001b[0m\u001b[1;32m    132\u001b[0m \u001b[1;33m\u001b[0m\u001b[0m\n\u001b[1;32m    133\u001b[0m     \u001b[1;32mdef\u001b[0m \u001b[0m__len__\u001b[0m\u001b[1;33m(\u001b[0m\u001b[0mself\u001b[0m\u001b[1;33m)\u001b[0m\u001b[1;33m:\u001b[0m\u001b[1;33m\u001b[0m\u001b[0m\n",
      "\u001b[0;31mKeyboardInterrupt\u001b[0m: "
     ]
    }
   ],
   "source": [
    "# przetestujmy powyższe na losowym podzbiorze MNISTa\n",
    "\n",
    "idx = np.random.RandomState(743).permutation(len(y))\n",
    "_X = X[idx[:3000]]\n",
    "_y = y[idx[:3000]]\n",
    "\n",
    "best_model, best_hyperparams = skf_model_selection(\n",
    "    Model=KNeighborsClassifier,\n",
    "    hyperparams_generator=grid_search({'n_neighbors': [2,5,8], 'leaf_size': [20,30,40]}),\n",
    "    X=_X, y=_y,\n",
    "    metric=accuracy_score,\n",
    "    n_splits=2,\n",
    "    random_state=43)"
   ]
  },
  {
   "cell_type": "markdown",
   "metadata": {},
   "source": [
    "## Ćwiczenie 3 [4 pkt]\n",
    "\n",
    "Zaimplementować algorytm model selection z użyciem podwójnej cross validation (StratifiedKFold w sklearn) zgodnie z opisem w sekcji \"Podsumowanie\"."
   ]
  },
  {
   "cell_type": "code",
   "execution_count": 257,
   "metadata": {
    "collapsed": false
   },
   "outputs": [],
   "source": [
    "def double_skf_model_evaluation(Model, generator_function, generator_function_kwargs, X, y, metric, selection_n_splits, evaluation_n_splits, random_state):\n",
    "    \"\"\"\n",
    "    Model - klasa modelu\n",
    "    generator_function, generator_function_kwargs - chcemy zrobić coś w stylu:\n",
    "        for hyperparams in generator_function(**generator_function_kwargs):\n",
    "            ...\n",
    "        nie podajemy wprost generatora, bo trzeba go użyć wielokrotnie, a generatorów (chyba?) nie da się kopiować\n",
    "    X,y - dane i etykiety\n",
    "    metric - funkcja o sygnaturze metric(y_true, y_pred), która ocenia skuteczność nauczonego modelu\n",
    "    selection/evaluation_n_splits - liczba splitów/foldów w odpowiednim cross validation\n",
    "    random_state - używany wszędzie tam, gdzie trzeba\n",
    "    \"\"\"\n",
    "    final_hyperparams = 0\n",
    "    final_model = 0\n",
    "    final_score = 0\n",
    "    \n",
    "    counter = 0;\n",
    "    hyperparamsList = [ hyperparams  for hyperparams in generator_function(generator_function_kwargs)]\n",
    "    # 1. Dzielimy evaluation_n_splits razy (X,y) na (X_train,y_train), (X_test,y_test).\n",
    "    skf1 = StratifiedKFold(n_splits=evaluation_n_splits, random_state=random_state, shuffle=True)\n",
    "    for train1, test1 in skf1.split(X, y):\n",
    "        counter += 1\n",
    "        print counter, \"/\", evaluation_n_splits\n",
    "    # 2. Dla każdego takiego podziału:\n",
    "        # 1. Dzielimy selection_n_splits razy (X_train,y_train) na (X_train2,y_train2), (X_valid,y_valid).\n",
    "        skf2 = StratifiedKFold(n_splits=selection_n_splits, random_state=random_state, shuffle=True)\n",
    "        split2 = [ [train2, test2] for train2, test2 in skf2.split(X[train1], y[train1])]\n",
    "    \n",
    "        counter22 = 0\n",
    "        mean_scores = [0 for i in xrange(len(hyperparamsList))]\n",
    "        for i in xrange(len(hyperparamsList)):\n",
    "            counter22 += 1\n",
    "            print \"     \", counter22, \" / \", len(hyperparamsList)\n",
    "        # 2. Dla każdego zestawu hiperparametrów:  \n",
    "            scores = []\n",
    "            for train2, test2 in split2:\n",
    "            # 1. Dla każdego podziału (X_train2,y_train2), (X_valid,y_valid):\n",
    "                # 1. Tworzymy model = Model(zestaw_hiperparametrów).\n",
    "                model = Model(**(hyperparamsList[i]))\n",
    "                # 2. Uczymy model na (X_train2,y_train2), testujemy na (X_valid,y_valid) i otrzymujemy score.\n",
    "                model.fit(X[train2], y[train2])\n",
    "                score = metric(y[test2], model.predict(X[test2]))\n",
    "                # 3. (zestaw_hiperparametrów, score) zapisujemy w tabelce.\n",
    "                scores.append(score)\n",
    "            mean_scores[i]=np.mean(scores)\n",
    "        # 3. Dla każdego zestawu hiperparametrów mamy trzy różne score z trzech podziałów - uśredniamy je.\n",
    "        # 4. Wybieramy średnio najlepszy zestaw hiperparametrów.\n",
    "        best_hyperparams = hyperparamsList[np.argmax(mean_scores)]\n",
    "        # 5. Tworzymy model = Model(średnio_najlepszy_zestaw_hiperparametrów) i uczymy na całym (X_train,y_train).\n",
    "        model = Model(**best_hyperparams)\n",
    "        model.fit(X[train1], y[train1])\n",
    "        score = metric(y[test1], model.predict(X[test1]))\n",
    "        if(score > final_score):\n",
    "            final_score = score\n",
    "            final_model = model\n",
    "            final_hyperparams = best_hyperparams\n",
    "        # 6. Testujemy model na (X_test,y_test) i otrzymujemy evaluation_score, zapisujemy go.\n",
    "    # 3. Uśredniamy trzy evaluation_score, zwracamy średnią jako ostateczny score Modelu.\n",
    "    return final_model, final_hyperparams#score"
   ]
  },
  {
   "cell_type": "code",
   "execution_count": 258,
   "metadata": {
    "collapsed": false
   },
   "outputs": [
    {
     "name": "stdout",
     "output_type": "stream",
     "text": [
      "1 / 5\n",
      "      1  /  9\n",
      "      2  /  9\n",
      "      3  /  9\n",
      "      4  /  9\n",
      "      5  /  9\n",
      "      6  /  9\n",
      "      7  /  9\n",
      "      8  /  9\n",
      "      9  /  9\n",
      "2 / 5\n",
      "      1  /  9\n",
      "      2  /  9\n",
      "      3  /  9\n",
      "      4  /  9\n",
      "      5  /  9\n",
      "      6  /  9\n",
      "      7  /  9\n",
      "      8  /  9\n",
      "      9  /  9\n",
      "3 / 5\n",
      "      1  /  9\n",
      "      2  /  9\n",
      "      3  /  9\n",
      "      4  /  9\n",
      "      5  /  9\n",
      "      6  /  9\n",
      "      7  /  9\n",
      "      8  /  9\n",
      "      9  /  9\n",
      "4 / 5\n",
      "      1  /  9\n",
      "      2  /  9\n",
      "      3  /  9\n",
      "      4  /  9\n",
      "      5  /  9\n",
      "      6  /  9\n",
      "      7  /  9\n",
      "      8  /  9\n",
      "      9  /  9\n",
      "5 / 5\n",
      "      1  /  9\n",
      "      2  /  9\n",
      "      3  /  9\n",
      "      4  /  9\n",
      "      5  /  9\n",
      "      6  /  9\n",
      "      7  /  9\n",
      "      8  /  9\n",
      "      9  /  9\n",
      "Wynik:  {'n_neighbors': 5, 'leaf_size': 20}\n"
     ]
    }
   ],
   "source": [
    "idx = np.random.RandomState(743).permutation(len(y))\n",
    "_X = X[idx[:3000]]\n",
    "_y = y[idx[:3000]]\n",
    "\n",
    "best_model, best_hyperparams = double_skf_model_evaluation(\n",
    "    Model=KNeighborsClassifier,\n",
    "    generator_function=grid_search,\n",
    "    generator_function_kwargs={'n_neighbors': [2,5,8], 'leaf_size': [20,30,40]},\n",
    "    X=_X, y=_y,\n",
    "    metric=accuracy_score,\n",
    "    selection_n_splits=2, \n",
    "    evaluation_n_splits=5,\n",
    "    random_state=43)\n",
    "\n",
    "print \"Wynik: \", best_hyperparams"
   ]
  },
  {
   "cell_type": "markdown",
   "metadata": {},
   "source": [
    "## Ćwiczenie 4 [2 pkt]\n",
    "\n",
    "Przy użyciu powyższych funkcji wytrenować porządnie na danych MNIST jeden (dowolnie wybrany) z poniższych modelów:\n",
    "* LinearSVM,\n",
    "* SVM,\n",
    "* RandomForest,\n",
    "* KNN.\n",
    "\n",
    "Zwrócić model i jego estymowany score.\n",
    "\n",
    "[Możemy wspólnie zastanowić się nad sensownym doborem gridów/rozkładów na hiperparametrach.]"
   ]
  },
  {
   "cell_type": "code",
   "execution_count": 164,
   "metadata": {
    "collapsed": false
   },
   "outputs": [
    {
     "name": "stdout",
     "output_type": "stream",
     "text": [
      "20   20\n",
      "13 :  [   3    4    5   22   23   24   25   14   43  321   23  -11 -111]\n",
      "13 :  [0 0 0 1 1 1 1 2 2 3 3 4 4]\n",
      "---\n",
      "13 :  [   1    2    5   20   21   24   25   13   43  123   23   -1 -111]\n",
      "13 :  [0 0 0 1 1 1 1 2 2 3 3 4 4]\n",
      "---\n",
      "14 :  [  1   2   3   4  20  21  22  23  13  14 123 321  -1 -11]\n",
      "14 :  [0 0 0 0 1 1 1 1 2 2 3 3 4 4]\n",
      "---\n"
     ]
    }
   ],
   "source": [
    "skf = StratifiedKFold(n_splits=3, random_state=38);\n",
    "X=np.array([1,2,3,4,5,20,21,22,23,24,25,13,14,43,123,321,23,-1,-11,-111]);\n",
    "y=np.array([0,0,0,0,0, 1, 1, 1, 1, 1, 1,2,2,2,3,3,3,4,4,4]);\n",
    "print len(X), \" \", len(y)\n",
    "for train_index, test_index in skf.split(X, y):\n",
    "    X_train, X_test = X[train_index], X[test_index]\n",
    "    y_train, y_test = y[train_index], y[test_index]\n",
    "    print len(X_train), \": \", X_train\n",
    "    print len(y_train), \": \", y_train\n",
    "    print \"---\""
   ]
  },
  {
   "cell_type": "code",
   "execution_count": 54,
   "metadata": {
    "collapsed": false
   },
   "outputs": [
    {
     "name": "stdout",
     "output_type": "stream",
     "text": [
      "train accuracy: 0.999040511727\n",
      "test accuracy: 0.94341991342\n"
     ]
    }
   ],
   "source": [
    "mnist = fetch_mldata('MNIST original')\n",
    "size = len( mnist[\"data\"]);#25000\n",
    "X = mnist[\"data\"][:size]\n",
    "y = mnist[\"target\"][:size]\n",
    "X_train, X_test, y_train, y_test = train_test_split(X, y, test_size=0.33, random_state=43)\n",
    "\n",
    "model = RandomForestClassifier()\n",
    "model.fit(X_train, y_train)\n",
    "print \"train accuracy:\", accuracy_score(y_train, model.predict(X_train))\n",
    "print \"test accuracy:\", accuracy_score(y_test, model.predict(X_test))\n"
   ]
  },
  {
   "cell_type": "markdown",
   "metadata": {},
   "source": [
    "## Data augmentation\n",
    "\n",
    "Model zawsze nauczy się lepiej na większym zbiorze danych. Przez data augmentation rozumiemy cały zbiór technik, które pozwalają \"sztucznie\" niskim kosztem powiększyć dataset. Oczywiście musimy znać etykiety nowowygenerowanych danych. Zazwyczaj działamy w następujący sposób: definiujemy operację, którą możemy zadziałać na pojedynczy $\\mathbf{x}$ bez zmiany odpowiadającego mu $y$, a następnie generujemy z jednego $\\mathbf{x}$ dużo wersji i każdej przypisujemy to samo $y$.\n",
    "\n",
    "Kilka prostych przykładów:\n",
    "* rozpoznawanie mowy ($\\mathbf{x}$ - zapis dźwiękowy, $y$ - tekst wypowiadany przez lektora) - zmieniamy szybkość mówienia, zmieniamy wysokość dźwięku itp.\n",
    "* klasyfikacja obrazków - obracamy obrazki, odbijamy symetrycznie, dodajemy szum, zmieniamy nieco paletę barw itp.\n",
    "\n",
    "Spróbujmy zobaczyć dla przykładu, co się stanie, gdy dodamy gaussowski szum do MNISTa."
   ]
  },
  {
   "cell_type": "code",
   "execution_count": 33,
   "metadata": {
    "collapsed": false
   },
   "outputs": [],
   "source": [
    "mnist = fetch_mldata('MNIST original')\n",
    "X = mnist[\"data\"]\n",
    "y = mnist[\"target\"]\n",
    "idx = np.random.permutation(len(y))\n",
    "X = X[idx[:3000]]\n",
    "y = y[idx[:3000]]"
   ]
  },
  {
   "cell_type": "code",
   "execution_count": 34,
   "metadata": {
    "collapsed": false
   },
   "outputs": [
    {
     "name": "stdout",
     "output_type": "stream",
     "text": [
      "fitting KNN (no augmentation)\n",
      "train accuracy: 1.0\n",
      "test accuracy: 0.906060606061\n"
     ]
    }
   ],
   "source": [
    "X_train, X_test, y_train, y_test = train_test_split(X, y, test_size=0.33, random_state=43)\n",
    "\n",
    "model = KNeighborsClassifier(n_neighbors=1)\n",
    "print \"fitting KNN (no augmentation)\"\n",
    "model.fit(X_train, y_train)\n",
    "print \"train accuracy:\", accuracy_score(y_train, model.predict(X_train))\n",
    "print \"test accuracy:\", accuracy_score(y_test, model.predict(X_test))"
   ]
  },
  {
   "cell_type": "code",
   "execution_count": 37,
   "metadata": {
    "collapsed": false
   },
   "outputs": [
    {
     "name": "stdout",
     "output_type": "stream",
     "text": [
      "Augmenting data...\n"
     ]
    },
    {
     "data": {
      "image/png": "[encoded data removed]",
      "text/plain": [
       "<matplotlib.figure.Figure at 0xa638550>"
      ]
     },
     "metadata": {},
     "output_type": "display_data"
    },
    {
     "data": {
      "image/png": "[encoded data removed]",
      "text/plain": [
       "<matplotlib.figure.Figure at 0xa854a90>"
      ]
     },
     "metadata": {},
     "output_type": "display_data"
    }
   ],
   "source": [
    "print \"Augmenting data...\"\n",
    "_X = [X.copy()]\n",
    "_y = [y.copy()]\n",
    "for i in xrange(2):\n",
    "    _X.append(X.copy() + np.random.normal(scale=3, size=X.shape))\n",
    "    _y.append(y.copy())\n",
    "X_aug = np.vstack(_X)\n",
    "y_aug = np.hstack(_y)\n",
    "\n",
    "plt.imshow(X[-1].reshape(28,28), cmap=\"gray\")\n",
    "plt.show()\n",
    "plt.imshow(X_aug[-1].reshape(28,28), cmap=\"gray\")\n",
    "plt.show()"
   ]
  },
  {
   "cell_type": "code",
   "execution_count": 38,
   "metadata": {
    "collapsed": false
   },
   "outputs": [
    {
     "name": "stdout",
     "output_type": "stream",
     "text": [
      "fitting KNN (with augmentation)\n",
      "train accuracy: 1.0\n",
      "test accuracy: 0.988888888889\n"
     ]
    }
   ],
   "source": [
    "X_train, X_test, y_train, y_test = train_test_split(X_aug, y_aug, test_size=0.33, random_state=43)\n",
    "\n",
    "model = KNeighborsClassifier(n_neighbors=1)\n",
    "print \"fitting KNN (with augmentation)\"\n",
    "model.fit(X_train, y_train)\n",
    "print \"train accuracy:\", accuracy_score(y_train, model.predict(X_train))\n",
    "print \"test accuracy:\", accuracy_score(y_test, model.predict(X_test))"
   ]
  },
  {
   "cell_type": "markdown",
   "metadata": {},
   "source": [
    "Hurra! Po dodaniu stosunkowo prostej augmentacji danych nasz model nauczył się perfekcyjnie generalizować na zbiór testowy! I nie musieliśmy tu stosować żadnej skomplikowanej sieci neuronowej, wystarczył KNN."
   ]
  },
  {
   "cell_type": "markdown",
   "metadata": {},
   "source": [
    "## Ćwiczenie 5 (4 pkt)\n",
    "\n",
    "Wytłumaczyć, na czym polega błąd w powyższym rozumowaniu."
   ]
  },
  {
   "cell_type": "markdown",
   "metadata": {},
   "source": [
    "Obserwacja: wagi których uczy się model na obrazku z dodanym  niewielkim gaussem, względem wag nauczonych na samym obrazki są bardzo podobne.  Oznacza to, że dla modelu, oba obrazki oznaczają mniej więcej to samo. \n",
    "\n",
    "Problem w powyższym kodzie polega na tym, że dane są zwielokrotniane siedem razy, za każdym razem z innym szumem. Natomiast operacja ta, w naszym przypadku, jest prawie równoważnia siedmiokrotnemu zwielokrotnieniu danych. To z kolei, powoduje problemy z odpowiednim doborem danych testowych. Mimo, że testujemy na 33% danych, to szansa że do tej grupy wpadną obrazki takie, że w zbiorze uczącym nie będzie ich \"podobnych\" odpowiedników jest istotnie duża.\n",
    "\n",
    "Na poparcie mojego rozumowania, jest przykład taki, że tą szansę można zmniejszyć, zmniejszając zwielokrotnianie danych. W kodzie wyżej, zamieniłem 7 na 2, przez co finalne test accuracy zmieniło się z 1.0 na : 0.988888888889."
   ]
  }
 ],
 "metadata": {
  "kernelspec": {
   "display_name": "Python 2",
   "language": "python",
   "name": "python2"
  },
  "language_info": {
   "codemirror_mode": {
    "name": "ipython",
    "version": 2
   },
   "file_extension": ".py",
   "mimetype": "text/x-python",
   "name": "python",
   "nbconvert_exporter": "python",
   "pygments_lexer": "ipython2",
   "version": "2.7.13"
  }
 },
 "nbformat": 4,
 "nbformat_minor": 2
}
